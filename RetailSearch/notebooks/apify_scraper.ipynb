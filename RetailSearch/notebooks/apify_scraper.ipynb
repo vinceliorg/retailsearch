{
 "cells": [
  {
   "cell_type": "code",
   "execution_count": 1,
   "id": "69cd5944-f471-462b-87f9-dbe7675068cb",
   "metadata": {
    "tags": []
   },
   "outputs": [
    {
     "ename": "ModuleNotFoundError",
     "evalue": "No module named 'apify_client'",
     "output_type": "error",
     "traceback": [
      "\u001b[0;31m---------------------------------------------------------------------------\u001b[0m",
      "\u001b[0;31mModuleNotFoundError\u001b[0m                       Traceback (most recent call last)",
      "Cell \u001b[0;32mIn[1], line 1\u001b[0m\n\u001b[0;32m----> 1\u001b[0m \u001b[38;5;28;01mfrom\u001b[39;00m \u001b[38;5;21;01mapify_client\u001b[39;00m \u001b[38;5;28;01mimport\u001b[39;00m ApifyClient\n\u001b[1;32m      3\u001b[0m apify_client \u001b[38;5;241m=\u001b[39m ApifyClient(\u001b[38;5;124m'\u001b[39m\u001b[38;5;124mapify_api_798Yf5dd9Yn2Zcf8TORMMtq9KPbFcM0OGc3c\u001b[39m\u001b[38;5;124m'\u001b[39m)\n\u001b[1;32m      5\u001b[0m \u001b[38;5;66;03m# Start an actor and waits for it to finish\u001b[39;00m\n",
      "\u001b[0;31mModuleNotFoundError\u001b[0m: No module named 'apify_client'"
     ]
    }
   ],
   "source": [
    "from apify_client import ApifyClient\n",
    "\n"
   ]
  },
  {
   "cell_type": "code",
   "execution_count": null,
   "id": "2330d719-0d61-4399-b01f-623c3296a260",
   "metadata": {},
   "outputs": [],
   "source": [
    "apify_client = ApifyClient('apify_api_798Yf5dd9Yn2Zcf8TORMMtq9KPbFcM0OGc3c')\n",
    "\n",
    "# Start an actor and waits for it to finish\n",
    "actor_call = apify_client.actor('john-doe/my-cool-actor').call()\n",
    "\n",
    "# Fetch results from the actor's default dataset\n",
    "dataset_items = apify_client.dataset(actor_call['defaultDatasetId']).list_items().items"
   ]
  },
  {
   "cell_type": "code",
   "execution_count": null,
   "id": "9437b57a-a8a7-4dab-a512-8d494a211aa1",
   "metadata": {
    "tags": []
   },
   "outputs": [],
   "source": [
    "!pip install apify_client"
   ]
  },
  {
   "cell_type": "code",
   "execution_count": null,
   "id": "876bcf0b-15a2-4e54-8df0-70b3c86caa69",
   "metadata": {},
   "outputs": [],
   "source": []
  }
 ],
 "metadata": {
  "kernelspec": {
   "display_name": "Python 3 (ipykernel)",
   "language": "python",
   "name": "python3"
  },
  "language_info": {
   "codemirror_mode": {
    "name": "ipython",
    "version": 3
   },
   "file_extension": ".py",
   "mimetype": "text/x-python",
   "name": "python",
   "nbconvert_exporter": "python",
   "pygments_lexer": "ipython3",
   "version": "3.10.8"
  }
 },
 "nbformat": 4,
 "nbformat_minor": 5
}

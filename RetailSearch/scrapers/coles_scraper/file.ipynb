{
 "cells": [
  {
   "cell_type": "code",
   "execution_count": 27,
   "id": "1d6c3516-7026-4f9a-aa85-94538e51ea66",
   "metadata": {
    "tags": []
   },
   "outputs": [],
   "source": [
    "filename = '../wws_prod_urls.txt'\n",
    "with open(filename) as file:\n",
    "    urls = [line.rstrip() for line in file]"
   ]
  },
  {
   "cell_type": "code",
   "execution_count": 28,
   "id": "7b0a67bd-4774-4e85-a342-533d0dd1aed5",
   "metadata": {
    "tags": []
   },
   "outputs": [],
   "source": [
    "import pandas as pd"
   ]
  },
  {
   "cell_type": "code",
   "execution_count": 29,
   "id": "2a3363bf-745e-4628-93bd-d5b8c062a9b6",
   "metadata": {
    "tags": []
   },
   "outputs": [],
   "source": [
    "urls_df = pd.DataFrame(urls, columns=['start_url'])"
   ]
  },
  {
   "cell_type": "code",
   "execution_count": 30,
   "id": "fca1da94-a521-4923-8726-939ec7c79f7c",
   "metadata": {
    "tags": []
   },
   "outputs": [],
   "source": [
    "urls_df = urls_df.drop_duplicates()"
   ]
  },
  {
   "cell_type": "code",
   "execution_count": 31,
   "id": "06a19beb-9307-493c-b816-bca35ea56aa6",
   "metadata": {
    "tags": []
   },
   "outputs": [],
   "source": [
    "urls_df = urls_df[urls_df['start_url'].str.contains(\"product\")]"
   ]
  },
  {
   "cell_type": "code",
   "execution_count": 32,
   "id": "80b66c08-078e-437e-a446-0ec40c86535e",
   "metadata": {
    "tags": []
   },
   "outputs": [],
   "source": [
    "# urls_df = urls_df[:-1]"
   ]
  },
  {
   "cell_type": "code",
   "execution_count": 33,
   "id": "26c28d9e-c91f-490e-b846-bfc5901f8428",
   "metadata": {
    "tags": []
   },
   "outputs": [
    {
     "data": {
      "text/html": [
       "<div>\n",
       "<style scoped>\n",
       "    .dataframe tbody tr th:only-of-type {\n",
       "        vertical-align: middle;\n",
       "    }\n",
       "\n",
       "    .dataframe tbody tr th {\n",
       "        vertical-align: top;\n",
       "    }\n",
       "\n",
       "    .dataframe thead th {\n",
       "        text-align: right;\n",
       "    }\n",
       "</style>\n",
       "<table border=\"1\" class=\"dataframe\">\n",
       "  <thead>\n",
       "    <tr style=\"text-align: right;\">\n",
       "      <th></th>\n",
       "      <th>start_url</th>\n",
       "    </tr>\n",
       "  </thead>\n",
       "  <tbody>\n",
       "    <tr>\n",
       "      <th>0</th>\n",
       "      <td>https://www.woolworths.com.au/shop/productdeta...</td>\n",
       "    </tr>\n",
       "    <tr>\n",
       "      <th>1</th>\n",
       "      <td>https://www.woolworths.com.au/shop/productdeta...</td>\n",
       "    </tr>\n",
       "    <tr>\n",
       "      <th>2</th>\n",
       "      <td>https://www.woolworths.com.au/shop/productdeta...</td>\n",
       "    </tr>\n",
       "    <tr>\n",
       "      <th>3</th>\n",
       "      <td>https://www.woolworths.com.au/shop/productdeta...</td>\n",
       "    </tr>\n",
       "    <tr>\n",
       "      <th>4</th>\n",
       "      <td>https://www.woolworths.com.au/shop/productdeta...</td>\n",
       "    </tr>\n",
       "    <tr>\n",
       "      <th>...</th>\n",
       "      <td>...</td>\n",
       "    </tr>\n",
       "    <tr>\n",
       "      <th>32767</th>\n",
       "      <td>https://www.woolworths.com.au/shop/productdeta...</td>\n",
       "    </tr>\n",
       "    <tr>\n",
       "      <th>32768</th>\n",
       "      <td>https://www.woolworths.com.au/shop/productdeta...</td>\n",
       "    </tr>\n",
       "    <tr>\n",
       "      <th>32769</th>\n",
       "      <td>https://www.woolworths.com.au/shop/productdeta...</td>\n",
       "    </tr>\n",
       "    <tr>\n",
       "      <th>32770</th>\n",
       "      <td>https://www.woolworths.com.au/shop/productdeta...</td>\n",
       "    </tr>\n",
       "    <tr>\n",
       "      <th>32771</th>\n",
       "      <td>https://www.woolworths.com.au/shop/productdeta...</td>\n",
       "    </tr>\n",
       "  </tbody>\n",
       "</table>\n",
       "<p>32772 rows × 1 columns</p>\n",
       "</div>"
      ],
      "text/plain": [
       "                                               start_url\n",
       "0      https://www.woolworths.com.au/shop/productdeta...\n",
       "1      https://www.woolworths.com.au/shop/productdeta...\n",
       "2      https://www.woolworths.com.au/shop/productdeta...\n",
       "3      https://www.woolworths.com.au/shop/productdeta...\n",
       "4      https://www.woolworths.com.au/shop/productdeta...\n",
       "...                                                  ...\n",
       "32767  https://www.woolworths.com.au/shop/productdeta...\n",
       "32768  https://www.woolworths.com.au/shop/productdeta...\n",
       "32769  https://www.woolworths.com.au/shop/productdeta...\n",
       "32770  https://www.woolworths.com.au/shop/productdeta...\n",
       "32771  https://www.woolworths.com.au/shop/productdeta...\n",
       "\n",
       "[32772 rows x 1 columns]"
      ]
     },
     "execution_count": 33,
     "metadata": {},
     "output_type": "execute_result"
    }
   ],
   "source": [
    "urls_df"
   ]
  },
  {
   "cell_type": "code",
   "execution_count": null,
   "id": "e55d9517-008f-4559-afb7-3b68834d9998",
   "metadata": {
    "tags": []
   },
   "outputs": [],
   "source": []
  },
  {
   "cell_type": "code",
   "execution_count": 35,
   "id": "5860c355-9556-49f8-b45e-43d784891990",
   "metadata": {},
   "outputs": [],
   "source": [
    "import numpy as np\n",
    "chunk_num = 12\n",
    "chunks = np.split(urls_df,chunk_num)"
   ]
  },
  {
   "cell_type": "code",
   "execution_count": 36,
   "id": "7392c030-9d15-4e69-be10-b8c15d90b6c7",
   "metadata": {
    "tags": []
   },
   "outputs": [],
   "source": [
    "i = 1\n",
    "for chunk in chunks:\n",
    "    chunk.to_csv(f'wws_prod_urls_{i}.csv',index=False, header=False)\n",
    "    i = i + 1"
   ]
  },
  {
   "cell_type": "code",
   "execution_count": 28,
   "id": "0e7dafee-c390-4437-8b75-10fe500bab00",
   "metadata": {
    "tags": []
   },
   "outputs": [],
   "source": [
    "dt = pd.read_csv('/Users/vli/Downloads/coles_prods.csv')"
   ]
  },
  {
   "cell_type": "code",
   "execution_count": null,
   "id": "3463d50c-dd12-4175-a560-034068de4af3",
   "metadata": {
    "tags": []
   },
   "outputs": [],
   "source": []
  },
  {
   "cell_type": "code",
   "execution_count": null,
   "id": "75941d0d-e82b-4e30-806e-16e2b76aeab4",
   "metadata": {},
   "outputs": [],
   "source": [
    "filename = 'coles_prod_urls_v2.txt'\n",
    "with open(filename) as file:\n",
    "    urls = [line.rstrip() for line in file]"
   ]
  }
 ],
 "metadata": {
  "kernelspec": {
   "display_name": "Python 3 (ipykernel)",
   "language": "python",
   "name": "python3"
  },
  "language_info": {
   "codemirror_mode": {
    "name": "ipython",
    "version": 3
   },
   "file_extension": ".py",
   "mimetype": "text/x-python",
   "name": "python",
   "nbconvert_exporter": "python",
   "pygments_lexer": "ipython3",
   "version": "3.10.8"
  }
 },
 "nbformat": 4,
 "nbformat_minor": 5
}

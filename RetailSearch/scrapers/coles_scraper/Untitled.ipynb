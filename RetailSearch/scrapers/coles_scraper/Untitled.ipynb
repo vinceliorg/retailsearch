{
 "cells": [
  {
   "cell_type": "code",
   "execution_count": 3,
   "id": "1d6c3516-7026-4f9a-aa85-94538e51ea66",
   "metadata": {
    "tags": []
   },
   "outputs": [],
   "source": [
    "filename = 'coles_prod_urls.txt'\n",
    "with open(filename) as file:\n",
    "    urls = [line.rstrip() for line in file]"
   ]
  },
  {
   "cell_type": "code",
   "execution_count": 6,
   "id": "2a3363bf-745e-4628-93bd-d5b8c062a9b6",
   "metadata": {
    "tags": []
   },
   "outputs": [],
   "source": [
    "i =0 \n",
    "site_maps = {}"
   ]
  },
  {
   "cell_type": "code",
   "execution_count": null,
   "id": "7cdee1c7-6903-4302-a0fe-b4fc888166aa",
   "metadata": {},
   "outputs": [],
   "source": []
  },
  {
   "cell_type": "markdown",
   "id": "38c836a2-b619-47b0-bbfb-d8449d004114",
   "metadata": {},
   "source": [
    "for url in urls:\n",
    "    i = i+1\n",
    "    site_maps['']\n",
    "    {\"_id\":\"coles-products\",\"startUrl\":[\"https://www.coles.com.au/product/coles-rspca-approved-chicken-drumsticks-large-pack-approx.-1.6kg-2923835\"],\n",
    "     \"selectors\":[{\"id\":\"html\",\"multiple\":false,\"parentSelectors\":[\"_root\"],\"regex\":\"\",\"selector\":\"body\",\"type\":\"SelectorHTML\"}]}"
   ]
  },
  {
   "cell_type": "code",
   "execution_count": null,
   "id": "5860c355-9556-49f8-b45e-43d784891990",
   "metadata": {},
   "outputs": [],
   "source": []
  }
 ],
 "metadata": {
  "kernelspec": {
   "display_name": "env",
   "language": "python",
   "name": "python3"
  },
  "language_info": {
   "codemirror_mode": {
    "name": "ipython",
    "version": 3
   },
   "file_extension": ".py",
   "mimetype": "text/x-python",
   "name": "python",
   "nbconvert_exporter": "python",
   "pygments_lexer": "ipython3",
   "version": "3.10.9"
  },
  "vscode": {
   "interpreter": {
    "hash": "7b525f5f97f6e80c76e0c317bbfd59a65ddec92c2b8cd4e90b8b97795b9970af"
   }
  }
 },
 "nbformat": 4,
 "nbformat_minor": 5
}

{
 "cells": [
  {
   "cell_type": "code",
   "execution_count": 28,
   "id": "37749c73-bfdc-4367-8460-c557a5365640",
   "metadata": {
    "tags": []
   },
   "outputs": [],
   "source": [
    "from datetime import datetime\n",
    "from elasticsearch import Elasticsearch\n",
    "import pandas as pd\n",
    "import math\n",
    "import xml.etree.ElementTree as ET\n",
    "from bs4 import BeautifulSoup\n",
    "import requests\n",
    "import json"
   ]
  },
  {
   "cell_type": "code",
   "execution_count": 29,
   "id": "84392096-02ab-45fe-bdae-acd292022b19",
   "metadata": {
    "tags": []
   },
   "outputs": [],
   "source": [
    "end_point = 'http://localhost:9200'\n",
    "es = Elasticsearch(end_point)"
   ]
  },
  {
   "cell_type": "code",
   "execution_count": 30,
   "id": "5e373fab-092b-4ec5-97f9-094ad8499630",
   "metadata": {
    "tags": []
   },
   "outputs": [],
   "source": [
    "# Opening JSON file\n",
    "f = open('/Users/vli/Work/RetailSearch/RetailSearch/deployment/elastic/mapping.json')\n",
    "mapping= json.load(f)\n",
    "f.close()"
   ]
  },
  {
   "cell_type": "code",
   "execution_count": 31,
   "id": "b3df7e91-3757-4e13-9aaf-0e4df7c4d6ba",
   "metadata": {
    "tags": []
   },
   "outputs": [],
   "source": [
    "# # Opening JSON file\n",
    "# f = open('/Users/vli/Work/RetailSearch/RetailSearch/deployment/elastic/mapping.json')\n",
    "# mapping = json.load(f)\n",
    "# f.close()"
   ]
  },
  {
   "cell_type": "code",
   "execution_count": 32,
   "id": "cf3b910a-0ebf-4bf0-9e01-969356976994",
   "metadata": {
    "tags": []
   },
   "outputs": [],
   "source": [
    "INDEX_NAME = 'grocery-index'"
   ]
  },
  {
   "cell_type": "code",
   "execution_count": 33,
   "id": "3cbf99d0-f419-417d-a38f-d688e4c7bc6d",
   "metadata": {
    "tags": []
   },
   "outputs": [
    {
     "name": "stderr",
     "output_type": "stream",
     "text": [
      "/var/folders/w2/cc31wnk17sb792wmhqk254h80000gn/T/ipykernel_87986/432536110.py:1: DeprecationWarning: Passing transport options in the API method is deprecated. Use 'Elasticsearch.options()' instead.\n",
      "  es.indices.create(index=INDEX_NAME, ignore=400, body=mapping)\n",
      "/var/folders/w2/cc31wnk17sb792wmhqk254h80000gn/T/ipykernel_87986/432536110.py:1: DeprecationWarning: The 'body' parameter is deprecated and will be removed in a future version. Instead use individual parameters.\n",
      "  es.indices.create(index=INDEX_NAME, ignore=400, body=mapping)\n"
     ]
    },
    {
     "data": {
      "text/plain": [
       "ObjectApiResponse({'acknowledged': True, 'shards_acknowledged': True, 'index': 'grocery-index'})"
      ]
     },
     "execution_count": 33,
     "metadata": {},
     "output_type": "execute_result"
    }
   ],
   "source": [
    "es.indices.create(index=INDEX_NAME, ignore=400, body=mapping)"
   ]
  },
  {
   "cell_type": "code",
   "execution_count": 27,
   "id": "30006db9-a183-4282-86fd-199eb56c6cb6",
   "metadata": {},
   "outputs": [],
   "source": [
    "# es.indices.delete(index=INDEX_NAME)"
   ]
  },
  {
   "cell_type": "code",
   "execution_count": null,
   "id": "3ed116fc-046a-446e-9a1a-14abf1c412d0",
   "metadata": {},
   "outputs": [],
   "source": []
  }
 ],
 "metadata": {
  "kernelspec": {
   "display_name": "Python 3 (ipykernel)",
   "language": "python",
   "name": "python3"
  },
  "language_info": {
   "codemirror_mode": {
    "name": "ipython",
    "version": 3
   },
   "file_extension": ".py",
   "mimetype": "text/x-python",
   "name": "python",
   "nbconvert_exporter": "python",
   "pygments_lexer": "ipython3",
   "version": "3.10.8"
  }
 },
 "nbformat": 4,
 "nbformat_minor": 5
}

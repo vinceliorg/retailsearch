{
 "cells": [
  {
   "cell_type": "code",
   "execution_count": 1,
   "id": "1105dc72-db93-426b-b06f-d24ad3c5a1ce",
   "metadata": {
    "tags": []
   },
   "outputs": [],
   "source": [
    "import pandas as pd\n",
    "import sys\n",
    "sys.path.insert(1, '../utils/')\n",
    "from text_utils import encode\n",
    "from os import listdir\n",
    "from os.path import isfile, join"
   ]
  },
  {
   "cell_type": "code",
   "execution_count": 2,
   "id": "79a7b02f-4e2e-4c3f-8361-d9dbbf307563",
   "metadata": {
    "tags": []
   },
   "outputs": [],
   "source": [
    "data_dir = '/Users/vli/Work/RetailSearch/MagpieSearch/data/'"
   ]
  },
  {
   "cell_type": "code",
   "execution_count": 3,
   "id": "ea34c89d-5c77-4a8f-a828-51ad037468e1",
   "metadata": {
    "tags": []
   },
   "outputs": [],
   "source": [
    "data_files = [join(data_dir,f) for f in listdir(data_dir) if isfile(join(data_dir, f)) and 'Indeed.com_Australia_March_13' in f]"
   ]
  },
  {
   "cell_type": "code",
   "execution_count": null,
   "id": "4bfe6e94-ee36-4ad5-b512-6b5cc2b393b6",
   "metadata": {
    "tags": []
   },
   "outputs": [],
   "source": []
  },
  {
   "cell_type": "code",
   "execution_count": 4,
   "id": "a0861708-48b5-4e62-969b-1d98ef9fdf9b",
   "metadata": {
    "tags": []
   },
   "outputs": [
    {
     "name": "stderr",
     "output_type": "stream",
     "text": [
      "/var/folders/w2/cc31wnk17sb792wmhqk254h80000gn/T/ipykernel_79693/3075127762.py:4: FutureWarning: The error_bad_lines argument has been deprecated and will be removed in a future version. Use on_bad_lines in the future.\n",
      "\n",
      "\n",
      "  dfs.append(pd.read_csv(file_path, error_bad_lines=False))\n",
      "/var/folders/w2/cc31wnk17sb792wmhqk254h80000gn/T/ipykernel_79693/3075127762.py:4: FutureWarning: The error_bad_lines argument has been deprecated and will be removed in a future version. Use on_bad_lines in the future.\n",
      "\n",
      "\n",
      "  dfs.append(pd.read_csv(file_path, error_bad_lines=False))\n",
      "Skipping line 19502: expected 17 fields, saw 18\n",
      "\n",
      "/var/folders/w2/cc31wnk17sb792wmhqk254h80000gn/T/ipykernel_79693/3075127762.py:4: FutureWarning: The error_bad_lines argument has been deprecated and will be removed in a future version. Use on_bad_lines in the future.\n",
      "\n",
      "\n",
      "  dfs.append(pd.read_csv(file_path, error_bad_lines=False))\n",
      "/var/folders/w2/cc31wnk17sb792wmhqk254h80000gn/T/ipykernel_79693/3075127762.py:4: FutureWarning: The error_bad_lines argument has been deprecated and will be removed in a future version. Use on_bad_lines in the future.\n",
      "\n",
      "\n",
      "  dfs.append(pd.read_csv(file_path, error_bad_lines=False))\n",
      "Skipping line 6502: expected 17 fields, saw 18\n",
      "\n",
      "/var/folders/w2/cc31wnk17sb792wmhqk254h80000gn/T/ipykernel_79693/3075127762.py:4: FutureWarning: The error_bad_lines argument has been deprecated and will be removed in a future version. Use on_bad_lines in the future.\n",
      "\n",
      "\n",
      "  dfs.append(pd.read_csv(file_path, error_bad_lines=False))\n",
      "/var/folders/w2/cc31wnk17sb792wmhqk254h80000gn/T/ipykernel_79693/3075127762.py:4: FutureWarning: The error_bad_lines argument has been deprecated and will be removed in a future version. Use on_bad_lines in the future.\n",
      "\n",
      "\n",
      "  dfs.append(pd.read_csv(file_path, error_bad_lines=False))\n",
      "/var/folders/w2/cc31wnk17sb792wmhqk254h80000gn/T/ipykernel_79693/3075127762.py:4: FutureWarning: The error_bad_lines argument has been deprecated and will be removed in a future version. Use on_bad_lines in the future.\n",
      "\n",
      "\n",
      "  dfs.append(pd.read_csv(file_path, error_bad_lines=False))\n",
      "Skipping line 11502: expected 17 fields, saw 18\n",
      "\n",
      "/var/folders/w2/cc31wnk17sb792wmhqk254h80000gn/T/ipykernel_79693/3075127762.py:4: FutureWarning: The error_bad_lines argument has been deprecated and will be removed in a future version. Use on_bad_lines in the future.\n",
      "\n",
      "\n",
      "  dfs.append(pd.read_csv(file_path, error_bad_lines=False))\n",
      "Skipping line 11002: expected 17 fields, saw 18\n",
      "\n",
      "/var/folders/w2/cc31wnk17sb792wmhqk254h80000gn/T/ipykernel_79693/3075127762.py:4: FutureWarning: The error_bad_lines argument has been deprecated and will be removed in a future version. Use on_bad_lines in the future.\n",
      "\n",
      "\n",
      "  dfs.append(pd.read_csv(file_path, error_bad_lines=False))\n",
      "/var/folders/w2/cc31wnk17sb792wmhqk254h80000gn/T/ipykernel_79693/3075127762.py:4: FutureWarning: The error_bad_lines argument has been deprecated and will be removed in a future version. Use on_bad_lines in the future.\n",
      "\n",
      "\n",
      "  dfs.append(pd.read_csv(file_path, error_bad_lines=False))\n",
      "Skipping line 502: expected 17 fields, saw 18\n",
      "\n",
      "/var/folders/w2/cc31wnk17sb792wmhqk254h80000gn/T/ipykernel_79693/3075127762.py:4: FutureWarning: The error_bad_lines argument has been deprecated and will be removed in a future version. Use on_bad_lines in the future.\n",
      "\n",
      "\n",
      "  dfs.append(pd.read_csv(file_path, error_bad_lines=False))\n",
      "/var/folders/w2/cc31wnk17sb792wmhqk254h80000gn/T/ipykernel_79693/3075127762.py:4: FutureWarning: The error_bad_lines argument has been deprecated and will be removed in a future version. Use on_bad_lines in the future.\n",
      "\n",
      "\n",
      "  dfs.append(pd.read_csv(file_path, error_bad_lines=False))\n",
      "Skipping line 6502: expected 17 fields, saw 18\n",
      "\n",
      "/var/folders/w2/cc31wnk17sb792wmhqk254h80000gn/T/ipykernel_79693/3075127762.py:4: FutureWarning: The error_bad_lines argument has been deprecated and will be removed in a future version. Use on_bad_lines in the future.\n",
      "\n",
      "\n",
      "  dfs.append(pd.read_csv(file_path, error_bad_lines=False))\n",
      "/var/folders/w2/cc31wnk17sb792wmhqk254h80000gn/T/ipykernel_79693/3075127762.py:4: FutureWarning: The error_bad_lines argument has been deprecated and will be removed in a future version. Use on_bad_lines in the future.\n",
      "\n",
      "\n",
      "  dfs.append(pd.read_csv(file_path, error_bad_lines=False))\n",
      "/var/folders/w2/cc31wnk17sb792wmhqk254h80000gn/T/ipykernel_79693/3075127762.py:4: FutureWarning: The error_bad_lines argument has been deprecated and will be removed in a future version. Use on_bad_lines in the future.\n",
      "\n",
      "\n",
      "  dfs.append(pd.read_csv(file_path, error_bad_lines=False))\n",
      "Skipping line 13502: expected 17 fields, saw 18\n",
      "\n",
      "/var/folders/w2/cc31wnk17sb792wmhqk254h80000gn/T/ipykernel_79693/3075127762.py:4: FutureWarning: The error_bad_lines argument has been deprecated and will be removed in a future version. Use on_bad_lines in the future.\n",
      "\n",
      "\n",
      "  dfs.append(pd.read_csv(file_path, error_bad_lines=False))\n",
      "Skipping line 2502: expected 17 fields, saw 18\n",
      "Skipping line 4002: expected 17 fields, saw 18\n",
      "\n",
      "/var/folders/w2/cc31wnk17sb792wmhqk254h80000gn/T/ipykernel_79693/3075127762.py:4: FutureWarning: The error_bad_lines argument has been deprecated and will be removed in a future version. Use on_bad_lines in the future.\n",
      "\n",
      "\n",
      "  dfs.append(pd.read_csv(file_path, error_bad_lines=False))\n",
      "Skipping line 3502: expected 17 fields, saw 18\n",
      "Skipping line 13002: expected 17 fields, saw 18\n",
      "\n",
      "/var/folders/w2/cc31wnk17sb792wmhqk254h80000gn/T/ipykernel_79693/3075127762.py:4: FutureWarning: The error_bad_lines argument has been deprecated and will be removed in a future version. Use on_bad_lines in the future.\n",
      "\n",
      "\n",
      "  dfs.append(pd.read_csv(file_path, error_bad_lines=False))\n",
      "/var/folders/w2/cc31wnk17sb792wmhqk254h80000gn/T/ipykernel_79693/3075127762.py:4: FutureWarning: The error_bad_lines argument has been deprecated and will be removed in a future version. Use on_bad_lines in the future.\n",
      "\n",
      "\n",
      "  dfs.append(pd.read_csv(file_path, error_bad_lines=False))\n",
      "/var/folders/w2/cc31wnk17sb792wmhqk254h80000gn/T/ipykernel_79693/3075127762.py:4: FutureWarning: The error_bad_lines argument has been deprecated and will be removed in a future version. Use on_bad_lines in the future.\n",
      "\n",
      "\n",
      "  dfs.append(pd.read_csv(file_path, error_bad_lines=False))\n",
      "Skipping line 8002: expected 17 fields, saw 18\n",
      "\n",
      "/var/folders/w2/cc31wnk17sb792wmhqk254h80000gn/T/ipykernel_79693/3075127762.py:4: FutureWarning: The error_bad_lines argument has been deprecated and will be removed in a future version. Use on_bad_lines in the future.\n",
      "\n",
      "\n",
      "  dfs.append(pd.read_csv(file_path, error_bad_lines=False))\n",
      "Skipping line 12002: expected 17 fields, saw 18\n",
      "Skipping line 18502: expected 17 fields, saw 18\n",
      "\n",
      "/var/folders/w2/cc31wnk17sb792wmhqk254h80000gn/T/ipykernel_79693/3075127762.py:4: FutureWarning: The error_bad_lines argument has been deprecated and will be removed in a future version. Use on_bad_lines in the future.\n",
      "\n",
      "\n",
      "  dfs.append(pd.read_csv(file_path, error_bad_lines=False))\n",
      "Skipping line 9002: expected 17 fields, saw 18\n",
      "\n",
      "/var/folders/w2/cc31wnk17sb792wmhqk254h80000gn/T/ipykernel_79693/3075127762.py:4: FutureWarning: The error_bad_lines argument has been deprecated and will be removed in a future version. Use on_bad_lines in the future.\n",
      "\n",
      "\n",
      "  dfs.append(pd.read_csv(file_path, error_bad_lines=False))\n"
     ]
    }
   ],
   "source": [
    "dfs=[]\n",
    "\n",
    "for file_path in data_files:\n",
    "    dfs.append(pd.read_csv(file_path, error_bad_lines=False))"
   ]
  },
  {
   "cell_type": "code",
   "execution_count": 5,
   "id": "2856a2a7-7030-43ec-9a5c-e148ece79754",
   "metadata": {
    "tags": []
   },
   "outputs": [],
   "source": [
    "dfs = pd.concat(dfs)"
   ]
  },
  {
   "cell_type": "code",
   "execution_count": 6,
   "id": "a05a7b91-8041-42df-8e98-884b381357f2",
   "metadata": {
    "tags": []
   },
   "outputs": [],
   "source": [
    "data =dfs"
   ]
  },
  {
   "cell_type": "code",
   "execution_count": 7,
   "id": "dcfcf728-3996-459e-aa41-611afb519733",
   "metadata": {
    "tags": []
   },
   "outputs": [],
   "source": [
    "data['id'] = data['Title_URL'].apply(encode)"
   ]
  },
  {
   "cell_type": "code",
   "execution_count": 8,
   "id": "b3073040-42f9-495f-8d25-3e32f076b1cb",
   "metadata": {
    "tags": []
   },
   "outputs": [],
   "source": [
    "data['Title'] = data['Title'].apply(lambda x: x.replace('\\ufeff', '') )"
   ]
  },
  {
   "cell_type": "code",
   "execution_count": null,
   "id": "d0dd2e5d-468c-4acf-9138-714ca7af9e65",
   "metadata": {
    "tags": []
   },
   "outputs": [],
   "source": []
  },
  {
   "cell_type": "code",
   "execution_count": 9,
   "id": "6719d64d-d716-4959-8f0d-4ec8f24ad93d",
   "metadata": {
    "tags": []
   },
   "outputs": [],
   "source": [
    "def merge(text_list):\n",
    "    text_set = set(text_list)\n",
    "    return [parag for parag in text_set] "
   ]
  },
  {
   "cell_type": "code",
   "execution_count": 10,
   "id": "a4950368-5eb6-43b3-98b1-f4fc45bcd040",
   "metadata": {
    "tags": []
   },
   "outputs": [],
   "source": [
    "data=data.fillna('')"
   ]
  },
  {
   "cell_type": "code",
   "execution_count": 11,
   "id": "17b056ee-2f80-48ef-90ad-bbd1d99a20c9",
   "metadata": {
    "tags": []
   },
   "outputs": [
    {
     "data": {
      "text/plain": [
       "(119397,)"
      ]
     },
     "execution_count": 11,
     "metadata": {},
     "output_type": "execute_result"
    }
   ],
   "source": [
    "data['id'].unique().shape"
   ]
  },
  {
   "cell_type": "code",
   "execution_count": 12,
   "id": "611ecad7-6740-43aa-b41d-8cbd43b7f196",
   "metadata": {
    "tags": []
   },
   "outputs": [
    {
     "data": {
      "text/html": [
       "<div>\n",
       "<style scoped>\n",
       "    .dataframe tbody tr th:only-of-type {\n",
       "        vertical-align: middle;\n",
       "    }\n",
       "\n",
       "    .dataframe tbody tr th {\n",
       "        vertical-align: top;\n",
       "    }\n",
       "\n",
       "    .dataframe thead th {\n",
       "        text-align: right;\n",
       "    }\n",
       "</style>\n",
       "<table border=\"1\" class=\"dataframe\">\n",
       "  <thead>\n",
       "    <tr style=\"text-align: right;\">\n",
       "      <th></th>\n",
       "      <th>Title</th>\n",
       "      <th>Title_URL</th>\n",
       "      <th>Company_URL</th>\n",
       "      <th>Company</th>\n",
       "      <th>ratinglink_URL</th>\n",
       "      <th>Number</th>\n",
       "      <th>Company1</th>\n",
       "      <th>Salary</th>\n",
       "      <th>metadata</th>\n",
       "      <th>metadata2</th>\n",
       "      <th>moreitems</th>\n",
       "      <th>jobsnippet</th>\n",
       "      <th>date</th>\n",
       "      <th>ialbl</th>\n",
       "      <th>jobsnippet3</th>\n",
       "      <th>Field1</th>\n",
       "      <th>Field2</th>\n",
       "      <th>id</th>\n",
       "    </tr>\n",
       "  </thead>\n",
       "  <tbody>\n",
       "    <tr>\n",
       "      <th>0</th>\n",
       "      <td>Learning &amp; Development Facilitator</td>\n",
       "      <td>https://au.indeed.com/pagead/clk?mo=r&amp;ad=-6NYl...</td>\n",
       "      <td>https://au.indeed.com/cmp/Serco-Group</td>\n",
       "      <td>Serco</td>\n",
       "      <td>https://au.indeed.com/cmp/Serco-Group/reviews</td>\n",
       "      <td>3.4</td>\n",
       "      <td>Ballarat VIC</td>\n",
       "      <td></td>\n",
       "      <td>Permanent\\n+1</td>\n",
       "      <td>Rotating roster\\n+1</td>\n",
       "      <td>1.0</td>\n",
       "      <td>Rewards and recognition program, including awa...</td>\n",
       "      <td>Posted\\nPosted 30+ days ago</td>\n",
       "      <td></td>\n",
       "      <td>Maintain documentation, training materials and...</td>\n",
       "      <td>Schedule:</td>\n",
       "      <td>\\n Monday to Friday\\n No weekends\\n</td>\n",
       "      <td>64f8b92bfc1dcc2c32eccef6877b4dab</td>\n",
       "    </tr>\n",
       "    <tr>\n",
       "      <th>1</th>\n",
       "      <td>Part time home packing and unpacking</td>\n",
       "      <td>https://au.indeed.com/pagead/clk?mo=r&amp;ad=-6NYl...</td>\n",
       "      <td>https://au.indeed.com/cmp/Hire-A-Mover</td>\n",
       "      <td>Hire A Packer</td>\n",
       "      <td>https://au.indeed.com/cmp/Hire-A-Mover/reviews</td>\n",
       "      <td>5.0</td>\n",
       "      <td>Melbourne VIC</td>\n",
       "      <td>$36.46 an hour</td>\n",
       "      <td>Part-time\\n+1</td>\n",
       "      <td>8 hour shift\\n+3</td>\n",
       "      <td>1.0</td>\n",
       "      <td>A police check with certificate (current - wit...</td>\n",
       "      <td>Posted\\nPosted 30+ days ago</td>\n",
       "      <td>Easily apply to this job without a resume</td>\n",
       "      <td>A drivers license and a car.</td>\n",
       "      <td>Knight St Multiage Learning is seeking applica...</td>\n",
       "      <td>\\n Monday to Friday\\n No weekends\\n</td>\n",
       "      <td>726f1e8f9c6ab562ca2514046350870a</td>\n",
       "    </tr>\n",
       "    <tr>\n",
       "      <th>2</th>\n",
       "      <td>Part time home packing and unpacking</td>\n",
       "      <td>https://au.indeed.com/pagead/clk?mo=r&amp;ad=-6NYl...</td>\n",
       "      <td>https://au.indeed.com/cmp/Hire-A-Mover</td>\n",
       "      <td>Hire A Packer</td>\n",
       "      <td>https://au.indeed.com/cmp/Hire-A-Mover/reviews</td>\n",
       "      <td>5.0</td>\n",
       "      <td>Melbourne VIC</td>\n",
       "      <td>$36.46 an hour</td>\n",
       "      <td>Part-time\\n+1</td>\n",
       "      <td>8 hour shift\\n+3</td>\n",
       "      <td>1.0</td>\n",
       "      <td>A police check with certificate (current - wit...</td>\n",
       "      <td>Posted\\nPosted 30+ days ago</td>\n",
       "      <td>Easily apply to this job without a resume</td>\n",
       "      <td>A drivers license and a car.</td>\n",
       "      <td>Kindergarten Teacher (Bachelor of Education Ea...</td>\n",
       "      <td>\\n Monday to Friday\\n No weekends\\n</td>\n",
       "      <td>726f1e8f9c6ab562ca2514046350870a</td>\n",
       "    </tr>\n",
       "    <tr>\n",
       "      <th>3</th>\n",
       "      <td>Part time home packing and unpacking</td>\n",
       "      <td>https://au.indeed.com/pagead/clk?mo=r&amp;ad=-6NYl...</td>\n",
       "      <td>https://au.indeed.com/cmp/Hire-A-Mover</td>\n",
       "      <td>Hire A Packer</td>\n",
       "      <td>https://au.indeed.com/cmp/Hire-A-Mover/reviews</td>\n",
       "      <td>5.0</td>\n",
       "      <td>Melbourne VIC</td>\n",
       "      <td>$36.46 an hour</td>\n",
       "      <td>Part-time\\n+1</td>\n",
       "      <td>8 hour shift\\n+3</td>\n",
       "      <td>1.0</td>\n",
       "      <td>A police check with certificate (current - wit...</td>\n",
       "      <td>Posted\\nPosted 30+ days ago</td>\n",
       "      <td>Easily apply to this job without a resume</td>\n",
       "      <td>A drivers license and a car.</td>\n",
       "      <td>Educational Leader (Diploma of Early Childhood)</td>\n",
       "      <td>\\n Monday to Friday\\n No weekends\\n</td>\n",
       "      <td>726f1e8f9c6ab562ca2514046350870a</td>\n",
       "    </tr>\n",
       "    <tr>\n",
       "      <th>4</th>\n",
       "      <td>Part time home packing and unpacking</td>\n",
       "      <td>https://au.indeed.com/pagead/clk?mo=r&amp;ad=-6NYl...</td>\n",
       "      <td>https://au.indeed.com/cmp/Hire-A-Mover</td>\n",
       "      <td>Hire A Packer</td>\n",
       "      <td>https://au.indeed.com/cmp/Hire-A-Mover/reviews</td>\n",
       "      <td>5.0</td>\n",
       "      <td>Melbourne VIC</td>\n",
       "      <td>$36.46 an hour</td>\n",
       "      <td>Part-time\\n+1</td>\n",
       "      <td>8 hour shift\\n+3</td>\n",
       "      <td>1.0</td>\n",
       "      <td>A police check with certificate (current - wit...</td>\n",
       "      <td>Posted\\nPosted 30+ days ago</td>\n",
       "      <td>Easily apply to this job without a resume</td>\n",
       "      <td>A drivers license and a car.</td>\n",
       "      <td>Knight St Multiage Learning is a smaller owner...</td>\n",
       "      <td>\\n Monday to Friday\\n No weekends\\n</td>\n",
       "      <td>726f1e8f9c6ab562ca2514046350870a</td>\n",
       "    </tr>\n",
       "    <tr>\n",
       "      <th>...</th>\n",
       "      <td>...</td>\n",
       "      <td>...</td>\n",
       "      <td>...</td>\n",
       "      <td>...</td>\n",
       "      <td>...</td>\n",
       "      <td>...</td>\n",
       "      <td>...</td>\n",
       "      <td>...</td>\n",
       "      <td>...</td>\n",
       "      <td>...</td>\n",
       "      <td>...</td>\n",
       "      <td>...</td>\n",
       "      <td>...</td>\n",
       "      <td>...</td>\n",
       "      <td>...</td>\n",
       "      <td>...</td>\n",
       "      <td>...</td>\n",
       "      <td>...</td>\n",
       "    </tr>\n",
       "    <tr>\n",
       "      <th>19995</th>\n",
       "      <td>Team Leader - Youth Services</td>\n",
       "      <td>https://au.indeed.com/pagead/clk?mo=r&amp;ad=-6NYl...</td>\n",
       "      <td></td>\n",
       "      <td></td>\n",
       "      <td></td>\n",
       "      <td></td>\n",
       "      <td>Alice Springs NT</td>\n",
       "      <td></td>\n",
       "      <td>Full-time\\n+2</td>\n",
       "      <td></td>\n",
       "      <td>2.0</td>\n",
       "      <td>Help shape the youth program and provide posit...</td>\n",
       "      <td>Posted\\nPosted 19 days ago</td>\n",
       "      <td></td>\n",
       "      <td>Design and deliver age, gender and culturally ...</td>\n",
       "      <td></td>\n",
       "      <td></td>\n",
       "      <td>1acf7fb086afa95a09bb609672fdc51c</td>\n",
       "    </tr>\n",
       "    <tr>\n",
       "      <th>19996</th>\n",
       "      <td>Examiner of Patents</td>\n",
       "      <td>https://au.indeed.com/pagead/clk?mo=r&amp;ad=-6NYl...</td>\n",
       "      <td>https://au.indeed.com/cmp/Ip-Australia</td>\n",
       "      <td>IP Australia</td>\n",
       "      <td>https://au.indeed.com/cmp/Ip-Australia/reviews</td>\n",
       "      <td>2.9</td>\n",
       "      <td>Darwin NT</td>\n",
       "      <td>$81,270 a year</td>\n",
       "      <td>Full-time</td>\n",
       "      <td>8 hour shift\\n+1</td>\n",
       "      <td>1.0</td>\n",
       "      <td>As a Patent Examiner you will use your STEM kn...</td>\n",
       "      <td>Posted\\nPosted 17 days ago</td>\n",
       "      <td></td>\n",
       "      <td></td>\n",
       "      <td></td>\n",
       "      <td></td>\n",
       "      <td>960aacfd22b0dab7bb1b5c1f0afa4ce1</td>\n",
       "    </tr>\n",
       "    <tr>\n",
       "      <th>19997</th>\n",
       "      <td>Office and Compliance Support</td>\n",
       "      <td>https://au.indeed.com/pagead/clk?mo=r&amp;ad=-6NYl...</td>\n",
       "      <td></td>\n",
       "      <td></td>\n",
       "      <td></td>\n",
       "      <td></td>\n",
       "      <td>Melbourne VIC 3000</td>\n",
       "      <td>$50,000 - $70,000 a year</td>\n",
       "      <td>Permanent\\n+1</td>\n",
       "      <td>8 hour shift\\n+1</td>\n",
       "      <td>1.0</td>\n",
       "      <td>Any other reasonable and related duties as req...</td>\n",
       "      <td>Employer\\nActive 1 day ago</td>\n",
       "      <td>Easily apply</td>\n",
       "      <td>Accountable for creating and capturing accurat...</td>\n",
       "      <td></td>\n",
       "      <td></td>\n",
       "      <td>777000722fc1d80fed3c06fb4edc5d38</td>\n",
       "    </tr>\n",
       "    <tr>\n",
       "      <th>19998</th>\n",
       "      <td>Support Coordinator</td>\n",
       "      <td>https://au.indeed.com/pagead/clk?mo=r&amp;ad=-6NYl...</td>\n",
       "      <td></td>\n",
       "      <td></td>\n",
       "      <td></td>\n",
       "      <td></td>\n",
       "      <td>Herne Hill VIC</td>\n",
       "      <td>$32.45 - $45.00 an hour</td>\n",
       "      <td>Permanent\\n+2</td>\n",
       "      <td>Flexible hours\\n+2</td>\n",
       "      <td>2.0</td>\n",
       "      <td>Working with children’s check.</td>\n",
       "      <td>Posted\\nPosted 23 days ago</td>\n",
       "      <td>Easily apply</td>\n",
       "      <td>Excellent organisational and time management s...</td>\n",
       "      <td></td>\n",
       "      <td></td>\n",
       "      <td>69c039a24d3af21ebe7e083ee7fa6743</td>\n",
       "    </tr>\n",
       "    <tr>\n",
       "      <th>19999</th>\n",
       "      <td>Visual Content Creator</td>\n",
       "      <td>https://au.indeed.com/pagead/clk?mo=r&amp;ad=-6NYl...</td>\n",
       "      <td></td>\n",
       "      <td></td>\n",
       "      <td></td>\n",
       "      <td></td>\n",
       "      <td>Carrum Downs VIC 3201</td>\n",
       "      <td>$52,000 - $62,000 a year</td>\n",
       "      <td>Full-time</td>\n",
       "      <td>8 hour shift\\n+1</td>\n",
       "      <td>1.0</td>\n",
       "      <td>As a Digital Content Creator, you will be resp...</td>\n",
       "      <td>Posted\\nPosted 11 days ago</td>\n",
       "      <td>Easily apply</td>\n",
       "      <td></td>\n",
       "      <td></td>\n",
       "      <td></td>\n",
       "      <td>1c98217f80c3aa95a2238051a413eaa0</td>\n",
       "    </tr>\n",
       "  </tbody>\n",
       "</table>\n",
       "<p>452234 rows × 18 columns</p>\n",
       "</div>"
      ],
      "text/plain": [
       "                                      Title  \\\n",
       "0        Learning & Development Facilitator   \n",
       "1      Part time home packing and unpacking   \n",
       "2      Part time home packing and unpacking   \n",
       "3      Part time home packing and unpacking   \n",
       "4      Part time home packing and unpacking   \n",
       "...                                     ...   \n",
       "19995          Team Leader - Youth Services   \n",
       "19996                   Examiner of Patents   \n",
       "19997         Office and Compliance Support   \n",
       "19998                   Support Coordinator   \n",
       "19999                Visual Content Creator   \n",
       "\n",
       "                                               Title_URL  \\\n",
       "0      https://au.indeed.com/pagead/clk?mo=r&ad=-6NYl...   \n",
       "1      https://au.indeed.com/pagead/clk?mo=r&ad=-6NYl...   \n",
       "2      https://au.indeed.com/pagead/clk?mo=r&ad=-6NYl...   \n",
       "3      https://au.indeed.com/pagead/clk?mo=r&ad=-6NYl...   \n",
       "4      https://au.indeed.com/pagead/clk?mo=r&ad=-6NYl...   \n",
       "...                                                  ...   \n",
       "19995  https://au.indeed.com/pagead/clk?mo=r&ad=-6NYl...   \n",
       "19996  https://au.indeed.com/pagead/clk?mo=r&ad=-6NYl...   \n",
       "19997  https://au.indeed.com/pagead/clk?mo=r&ad=-6NYl...   \n",
       "19998  https://au.indeed.com/pagead/clk?mo=r&ad=-6NYl...   \n",
       "19999  https://au.indeed.com/pagead/clk?mo=r&ad=-6NYl...   \n",
       "\n",
       "                                  Company_URL        Company  \\\n",
       "0       https://au.indeed.com/cmp/Serco-Group          Serco   \n",
       "1      https://au.indeed.com/cmp/Hire-A-Mover  Hire A Packer   \n",
       "2      https://au.indeed.com/cmp/Hire-A-Mover  Hire A Packer   \n",
       "3      https://au.indeed.com/cmp/Hire-A-Mover  Hire A Packer   \n",
       "4      https://au.indeed.com/cmp/Hire-A-Mover  Hire A Packer   \n",
       "...                                       ...            ...   \n",
       "19995                                                          \n",
       "19996  https://au.indeed.com/cmp/Ip-Australia   IP Australia   \n",
       "19997                                                          \n",
       "19998                                                          \n",
       "19999                                                          \n",
       "\n",
       "                                       ratinglink_URL Number  \\\n",
       "0       https://au.indeed.com/cmp/Serco-Group/reviews    3.4   \n",
       "1      https://au.indeed.com/cmp/Hire-A-Mover/reviews    5.0   \n",
       "2      https://au.indeed.com/cmp/Hire-A-Mover/reviews    5.0   \n",
       "3      https://au.indeed.com/cmp/Hire-A-Mover/reviews    5.0   \n",
       "4      https://au.indeed.com/cmp/Hire-A-Mover/reviews    5.0   \n",
       "...                                               ...    ...   \n",
       "19995                                                          \n",
       "19996  https://au.indeed.com/cmp/Ip-Australia/reviews    2.9   \n",
       "19997                                                          \n",
       "19998                                                          \n",
       "19999                                                          \n",
       "\n",
       "                    Company1                    Salary       metadata  \\\n",
       "0               Ballarat VIC                            Permanent\\n+1   \n",
       "1              Melbourne VIC            $36.46 an hour  Part-time\\n+1   \n",
       "2              Melbourne VIC            $36.46 an hour  Part-time\\n+1   \n",
       "3              Melbourne VIC            $36.46 an hour  Part-time\\n+1   \n",
       "4              Melbourne VIC            $36.46 an hour  Part-time\\n+1   \n",
       "...                      ...                       ...            ...   \n",
       "19995       Alice Springs NT                            Full-time\\n+2   \n",
       "19996              Darwin NT            $81,270 a year      Full-time   \n",
       "19997     Melbourne VIC 3000  $50,000 - $70,000 a year  Permanent\\n+1   \n",
       "19998         Herne Hill VIC   $32.45 - $45.00 an hour  Permanent\\n+2   \n",
       "19999  Carrum Downs VIC 3201  $52,000 - $62,000 a year      Full-time   \n",
       "\n",
       "                 metadata2 moreitems  \\\n",
       "0      Rotating roster\\n+1       1.0   \n",
       "1         8 hour shift\\n+3       1.0   \n",
       "2         8 hour shift\\n+3       1.0   \n",
       "3         8 hour shift\\n+3       1.0   \n",
       "4         8 hour shift\\n+3       1.0   \n",
       "...                    ...       ...   \n",
       "19995                            2.0   \n",
       "19996     8 hour shift\\n+1       1.0   \n",
       "19997     8 hour shift\\n+1       1.0   \n",
       "19998   Flexible hours\\n+2       2.0   \n",
       "19999     8 hour shift\\n+1       1.0   \n",
       "\n",
       "                                              jobsnippet  \\\n",
       "0      Rewards and recognition program, including awa...   \n",
       "1      A police check with certificate (current - wit...   \n",
       "2      A police check with certificate (current - wit...   \n",
       "3      A police check with certificate (current - wit...   \n",
       "4      A police check with certificate (current - wit...   \n",
       "...                                                  ...   \n",
       "19995  Help shape the youth program and provide posit...   \n",
       "19996  As a Patent Examiner you will use your STEM kn...   \n",
       "19997  Any other reasonable and related duties as req...   \n",
       "19998                     Working with children’s check.   \n",
       "19999  As a Digital Content Creator, you will be resp...   \n",
       "\n",
       "                              date                                      ialbl  \\\n",
       "0      Posted\\nPosted 30+ days ago                                              \n",
       "1      Posted\\nPosted 30+ days ago  Easily apply to this job without a resume   \n",
       "2      Posted\\nPosted 30+ days ago  Easily apply to this job without a resume   \n",
       "3      Posted\\nPosted 30+ days ago  Easily apply to this job without a resume   \n",
       "4      Posted\\nPosted 30+ days ago  Easily apply to this job without a resume   \n",
       "...                            ...                                        ...   \n",
       "19995   Posted\\nPosted 19 days ago                                              \n",
       "19996   Posted\\nPosted 17 days ago                                              \n",
       "19997   Employer\\nActive 1 day ago                               Easily apply   \n",
       "19998   Posted\\nPosted 23 days ago                               Easily apply   \n",
       "19999   Posted\\nPosted 11 days ago                               Easily apply   \n",
       "\n",
       "                                             jobsnippet3  \\\n",
       "0      Maintain documentation, training materials and...   \n",
       "1                           A drivers license and a car.   \n",
       "2                           A drivers license and a car.   \n",
       "3                           A drivers license and a car.   \n",
       "4                           A drivers license and a car.   \n",
       "...                                                  ...   \n",
       "19995  Design and deliver age, gender and culturally ...   \n",
       "19996                                                      \n",
       "19997  Accountable for creating and capturing accurat...   \n",
       "19998  Excellent organisational and time management s...   \n",
       "19999                                                      \n",
       "\n",
       "                                                  Field1  \\\n",
       "0                                              Schedule:   \n",
       "1      Knight St Multiage Learning is seeking applica...   \n",
       "2      Kindergarten Teacher (Bachelor of Education Ea...   \n",
       "3        Educational Leader (Diploma of Early Childhood)   \n",
       "4      Knight St Multiage Learning is a smaller owner...   \n",
       "...                                                  ...   \n",
       "19995                                                      \n",
       "19996                                                      \n",
       "19997                                                      \n",
       "19998                                                      \n",
       "19999                                                      \n",
       "\n",
       "                                    Field2                                id  \n",
       "0      \\n Monday to Friday\\n No weekends\\n  64f8b92bfc1dcc2c32eccef6877b4dab  \n",
       "1      \\n Monday to Friday\\n No weekends\\n  726f1e8f9c6ab562ca2514046350870a  \n",
       "2      \\n Monday to Friday\\n No weekends\\n  726f1e8f9c6ab562ca2514046350870a  \n",
       "3      \\n Monday to Friday\\n No weekends\\n  726f1e8f9c6ab562ca2514046350870a  \n",
       "4      \\n Monday to Friday\\n No weekends\\n  726f1e8f9c6ab562ca2514046350870a  \n",
       "...                                    ...                               ...  \n",
       "19995                                       1acf7fb086afa95a09bb609672fdc51c  \n",
       "19996                                       960aacfd22b0dab7bb1b5c1f0afa4ce1  \n",
       "19997                                       777000722fc1d80fed3c06fb4edc5d38  \n",
       "19998                                       69c039a24d3af21ebe7e083ee7fa6743  \n",
       "19999                                       1c98217f80c3aa95a2238051a413eaa0  \n",
       "\n",
       "[452234 rows x 18 columns]"
      ]
     },
     "execution_count": 12,
     "metadata": {},
     "output_type": "execute_result"
    }
   ],
   "source": [
    "data"
   ]
  },
  {
   "cell_type": "code",
   "execution_count": 13,
   "id": "b0b4b50f-c761-452a-af10-91fd0e3ab09d",
   "metadata": {
    "tags": []
   },
   "outputs": [],
   "source": [
    "data.columns = ['Title', 'Title_URL', 'Company_URL', 'Company', 'ratinglink_URL',\n",
    "       'Number', 'Location', 'Salary', 'JobType', 'JobType2', 'moreitems',\n",
    "       'jobsnippet', 'date', 'ialbl', 'jobsnippet3', 'Field1', 'Field2', 'id']"
   ]
  },
  {
   "cell_type": "code",
   "execution_count": null,
   "id": "a2d54fca-2836-49e3-9ebb-8d7ca9d27929",
   "metadata": {},
   "outputs": [],
   "source": []
  },
  {
   "cell_type": "code",
   "execution_count": 14,
   "id": "1fa1fb2f-9293-4585-8896-3093827d5097",
   "metadata": {
    "tags": []
   },
   "outputs": [
    {
     "name": "stderr",
     "output_type": "stream",
     "text": [
      "/var/folders/w2/cc31wnk17sb792wmhqk254h80000gn/T/ipykernel_79693/1519829422.py:1: FutureWarning: Indexing with multiple keys (implicitly converted to a tuple of keys) will be deprecated, use a list instead.\n",
      "  data_cleaned = data.groupby(['id','Title','Title_URL','JobType2'])[ 'Company','Company_URL','Location','JobType','Salary','moreitems',\n"
     ]
    }
   ],
   "source": [
    "data_cleaned = data.groupby(['id','Title','Title_URL','JobType2'])[ 'Company','Company_URL','Location','JobType','Salary','moreitems',\n",
    "       'jobsnippet','ialbl', 'jobsnippet3','date','Field1','Field2'].agg(merge).reset_index()"
   ]
  },
  {
   "cell_type": "code",
   "execution_count": 15,
   "id": "3b799b06-9ab6-4be4-9c52-1ac61acdddaa",
   "metadata": {
    "tags": []
   },
   "outputs": [
    {
     "data": {
      "text/plain": [
       "(119397, 16)"
      ]
     },
     "execution_count": 15,
     "metadata": {},
     "output_type": "execute_result"
    }
   ],
   "source": [
    "data_cleaned.shape"
   ]
  },
  {
   "cell_type": "code",
   "execution_count": null,
   "id": "aa0074ba-baee-4007-aa7a-358cc10679fc",
   "metadata": {},
   "outputs": [],
   "source": []
  },
  {
   "cell_type": "code",
   "execution_count": 16,
   "id": "a8145a6e-3c94-4534-aae0-9bcfb3793e62",
   "metadata": {
    "tags": []
   },
   "outputs": [],
   "source": [
    "data_cleaned = data_cleaned[['id','Title','Title_URL','JobType2', 'Company','Company_URL','Location','JobType','Salary','moreitems',\n",
    "       'jobsnippet','ialbl', 'jobsnippet3','date','Field1','Field2']]"
   ]
  },
  {
   "cell_type": "code",
   "execution_count": 17,
   "id": "28f4f13a-7c9f-4840-a38a-4b8601d97c6b",
   "metadata": {
    "tags": []
   },
   "outputs": [
    {
     "data": {
      "text/plain": [
       "Index(['id', 'Title', 'Title_URL', 'JobType2', 'Company', 'Company_URL',\n",
       "       'Location', 'JobType', 'Salary', 'moreitems', 'jobsnippet', 'ialbl',\n",
       "       'jobsnippet3', 'date', 'Field1', 'Field2'],\n",
       "      dtype='object')"
      ]
     },
     "execution_count": 17,
     "metadata": {},
     "output_type": "execute_result"
    }
   ],
   "source": [
    "data_cleaned.columns"
   ]
  },
  {
   "cell_type": "code",
   "execution_count": null,
   "id": "4acbccd8-3f1e-4c7b-b82e-fe8cdf0a0c97",
   "metadata": {
    "tags": []
   },
   "outputs": [],
   "source": []
  },
  {
   "cell_type": "code",
   "execution_count": 18,
   "id": "180241bc-7643-43d2-bc6e-0d74b0f0fd3b",
   "metadata": {
    "tags": []
   },
   "outputs": [],
   "source": [
    "def clean_duplicates(x):\n",
    "    x = [item for item in x if item!='' ]\n",
    "    if len(x)==0:\n",
    "        return ''\n",
    "    elif len(x)>1:\n",
    "        print('error')\n",
    "        return x[0]\n",
    "    else:\n",
    "        return x[0]"
   ]
  },
  {
   "cell_type": "code",
   "execution_count": 19,
   "id": "476bc543-ba05-4649-a3b9-6228063c9298",
   "metadata": {
    "tags": []
   },
   "outputs": [],
   "source": [
    "data_cleaned['Company_URL'] = data_cleaned['Company_URL'].apply(clean_duplicates)"
   ]
  },
  {
   "cell_type": "code",
   "execution_count": 20,
   "id": "4ba5553a-281e-4d59-8ea8-887b4a82addd",
   "metadata": {
    "tags": []
   },
   "outputs": [],
   "source": [
    "data_cleaned['Company'] = data_cleaned['Company'].apply(clean_duplicates)"
   ]
  },
  {
   "cell_type": "code",
   "execution_count": 21,
   "id": "619be025-bdf1-4b83-b6f4-ed3d7079283b",
   "metadata": {
    "tags": []
   },
   "outputs": [],
   "source": [
    "data_cleaned['Salary'] = data_cleaned['Salary'].apply(clean_duplicates)"
   ]
  },
  {
   "cell_type": "code",
   "execution_count": null,
   "id": "fc3135f7-8b65-487a-a3e9-e4b1f20703f0",
   "metadata": {},
   "outputs": [],
   "source": []
  },
  {
   "cell_type": "code",
   "execution_count": 22,
   "id": "adb36da9-4f43-4812-8890-5c5ea767eadf",
   "metadata": {
    "tags": []
   },
   "outputs": [],
   "source": [
    "# data_cleaned['Location'] = data_cleaned['Location'].apply(clean_duplicates)"
   ]
  },
  {
   "cell_type": "code",
   "execution_count": 23,
   "id": "c776f9fd-4b24-4beb-bb49-1e8212b1f9fd",
   "metadata": {
    "tags": []
   },
   "outputs": [],
   "source": [
    "data_cleaned.to_csv('/Users/vli/Work/RetailSearch/MagpieSearch/data/jobs/indeed_jobs_march_2023.csv',index = False)"
   ]
  },
  {
   "cell_type": "code",
   "execution_count": null,
   "id": "78e546d7-2d30-4d05-b83e-4522608f789c",
   "metadata": {
    "tags": []
   },
   "outputs": [],
   "source": [
    "data_cleaned['title_len'] = data_cleaned['Title'].apply(lambda x: len(x))"
   ]
  },
  {
   "cell_type": "code",
   "execution_count": null,
   "id": "c95e849f-8a33-4904-834f-0711ae000bae",
   "metadata": {
    "tags": []
   },
   "outputs": [],
   "source": [
    "data_cleaned[data_cleaned['title_len']>1].to_csv('title_duplicates.csv',index=False)"
   ]
  },
  {
   "cell_type": "code",
   "execution_count": null,
   "id": "bf85b380-4dc1-4cc1-a308-5649f43b6126",
   "metadata": {
    "tags": []
   },
   "outputs": [],
   "source": [
    "data_cleaned[data_cleaned['title_len']>1]"
   ]
  },
  {
   "cell_type": "code",
   "execution_count": 24,
   "id": "00bacd38-9fbb-48cd-89b0-80f6893f8956",
   "metadata": {
    "tags": []
   },
   "outputs": [],
   "source": [
    "embedding_path = '/Users/vli/Work/RetailSearch/MagpieSearch/deployment/faiss/jobs/indeed_job_title_embedding-indeed_jobs_march_2023.bin'"
   ]
  },
  {
   "cell_type": "code",
   "execution_count": 26,
   "id": "9254015b-1f63-4ed0-99e8-c4705498aed8",
   "metadata": {
    "tags": []
   },
   "outputs": [],
   "source": [
    "import pickle"
   ]
  },
  {
   "cell_type": "code",
   "execution_count": 27,
   "id": "c8a971cf-8114-4871-9890-db77b3220def",
   "metadata": {
    "tags": []
   },
   "outputs": [],
   "source": [
    "f = open(embedding_path,'rb')\n",
    "data=pickle.load(f)"
   ]
  },
  {
   "cell_type": "code",
   "execution_count": 29,
   "id": "13b92d4c-e191-4b9c-945b-20cdd6c583f7",
   "metadata": {
    "tags": []
   },
   "outputs": [
    {
     "data": {
      "text/plain": [
       "119397"
      ]
     },
     "execution_count": 29,
     "metadata": {},
     "output_type": "execute_result"
    }
   ],
   "source": [
    "len(data)"
   ]
  },
  {
   "cell_type": "code",
   "execution_count": 31,
   "id": "c7f020ba-7285-4970-b96b-7251937b4b39",
   "metadata": {
    "tags": []
   },
   "outputs": [
    {
     "data": {
      "text/plain": [
       "(332,)"
      ]
     },
     "execution_count": 31,
     "metadata": {},
     "output_type": "execute_result"
    }
   ],
   "source": [
    "data_cleaned['Title'].unique().shape"
   ]
  },
  {
   "cell_type": "code",
   "execution_count": 33,
   "id": "9dada60c-0110-4a21-a3d8-54e0f0033732",
   "metadata": {
    "tags": []
   },
   "outputs": [],
   "source": [
    "data_cleaned=data_cleaned.sort_values(['Title'])"
   ]
  },
  {
   "cell_type": "code",
   "execution_count": 34,
   "id": "bd260fb3-3295-46c4-a417-14fe45066082",
   "metadata": {
    "tags": []
   },
   "outputs": [
    {
     "data": {
      "text/html": [
       "<div>\n",
       "<style scoped>\n",
       "    .dataframe tbody tr th:only-of-type {\n",
       "        vertical-align: middle;\n",
       "    }\n",
       "\n",
       "    .dataframe tbody tr th {\n",
       "        vertical-align: top;\n",
       "    }\n",
       "\n",
       "    .dataframe thead th {\n",
       "        text-align: right;\n",
       "    }\n",
       "</style>\n",
       "<table border=\"1\" class=\"dataframe\">\n",
       "  <thead>\n",
       "    <tr style=\"text-align: right;\">\n",
       "      <th></th>\n",
       "      <th>id</th>\n",
       "      <th>Title</th>\n",
       "      <th>Title_URL</th>\n",
       "      <th>JobType2</th>\n",
       "      <th>Company</th>\n",
       "      <th>Company_URL</th>\n",
       "      <th>Location</th>\n",
       "      <th>JobType</th>\n",
       "      <th>Salary</th>\n",
       "      <th>moreitems</th>\n",
       "      <th>jobsnippet</th>\n",
       "      <th>ialbl</th>\n",
       "      <th>jobsnippet3</th>\n",
       "      <th>date</th>\n",
       "      <th>Field1</th>\n",
       "      <th>Field2</th>\n",
       "    </tr>\n",
       "  </thead>\n",
       "  <tbody>\n",
       "    <tr>\n",
       "      <th>48390</th>\n",
       "      <td>67b8668770dd9c46388bb624ab12f3d2</td>\n",
       "      <td>1st Year Apprentice</td>\n",
       "      <td>https://au.indeed.com/pagead/clk?mo=r&amp;ad=-6NYl...</td>\n",
       "      <td>Weekend availability\\n+4</td>\n",
       "      <td>Bakers Delight Melton</td>\n",
       "      <td>https://au.indeed.com/cmp/Bakers-Delight</td>\n",
       "      <td>[Melton VIC 3337]</td>\n",
       "      <td>[Full-time\\n+1]</td>\n",
       "      <td></td>\n",
       "      <td>[1.0]</td>\n",
       "      <td>[We are looking for hard working and enthusias...</td>\n",
       "      <td>[Easily apply]</td>\n",
       "      <td>[]</td>\n",
       "      <td>[Posted\\nPosted 30+ days ago]</td>\n",
       "      <td>[]</td>\n",
       "      <td>[]</td>\n",
       "    </tr>\n",
       "    <tr>\n",
       "      <th>34423</th>\n",
       "      <td>49b0744dea92471255b984e0540494e2</td>\n",
       "      <td>1st Year Apprentice</td>\n",
       "      <td>https://au.indeed.com/pagead/clk?mo=r&amp;ad=-6NYl...</td>\n",
       "      <td>Weekend availability\\n+4</td>\n",
       "      <td>Bakers Delight Melton</td>\n",
       "      <td>https://au.indeed.com/cmp/Bakers-Delight</td>\n",
       "      <td>[Melton VIC 3337]</td>\n",
       "      <td>[Full-time\\n+1]</td>\n",
       "      <td></td>\n",
       "      <td>[1.0]</td>\n",
       "      <td>[We are looking for hard working and enthusias...</td>\n",
       "      <td>[Easily apply]</td>\n",
       "      <td>[]</td>\n",
       "      <td>[Posted\\nPosted 30+ days ago]</td>\n",
       "      <td>[]</td>\n",
       "      <td>[]</td>\n",
       "    </tr>\n",
       "    <tr>\n",
       "      <th>64075</th>\n",
       "      <td>89bf16625ce8f6bf2f26ec26b36cc95d</td>\n",
       "      <td>1st Year Apprentice</td>\n",
       "      <td>https://au.indeed.com/pagead/clk?mo=r&amp;ad=-6NYl...</td>\n",
       "      <td>Weekend availability\\n+4</td>\n",
       "      <td>Bakers Delight Melton</td>\n",
       "      <td>https://au.indeed.com/cmp/Bakers-Delight</td>\n",
       "      <td>[Melton VIC 3337]</td>\n",
       "      <td>[Full-time\\n+1]</td>\n",
       "      <td></td>\n",
       "      <td>[1.0]</td>\n",
       "      <td>[We are looking for hard working and enthusias...</td>\n",
       "      <td>[Easily apply]</td>\n",
       "      <td>[]</td>\n",
       "      <td>[Posted\\nPosted 30+ days ago]</td>\n",
       "      <td>[]</td>\n",
       "      <td>[]</td>\n",
       "    </tr>\n",
       "    <tr>\n",
       "      <th>34458</th>\n",
       "      <td>49bf829bef59288232d0a8ce56375cf1</td>\n",
       "      <td>1st Year Apprentice</td>\n",
       "      <td>https://au.indeed.com/pagead/clk?mo=r&amp;ad=-6NYl...</td>\n",
       "      <td>Weekend availability\\n+4</td>\n",
       "      <td>Bakers Delight Melton</td>\n",
       "      <td>https://au.indeed.com/cmp/Bakers-Delight</td>\n",
       "      <td>[Melton VIC 3337]</td>\n",
       "      <td>[Full-time\\n+1]</td>\n",
       "      <td></td>\n",
       "      <td>[1.0]</td>\n",
       "      <td>[We are looking for hard working and enthusias...</td>\n",
       "      <td>[Easily apply]</td>\n",
       "      <td>[]</td>\n",
       "      <td>[Posted\\nPosted 30+ days ago]</td>\n",
       "      <td>[]</td>\n",
       "      <td>[]</td>\n",
       "    </tr>\n",
       "    <tr>\n",
       "      <th>117943</th>\n",
       "      <td>fce6803422a3de6dd5646cddd8fad9ba</td>\n",
       "      <td>1st Year Apprentice</td>\n",
       "      <td>https://au.indeed.com/pagead/clk?mo=r&amp;ad=-6NYl...</td>\n",
       "      <td>Weekend availability\\n+4</td>\n",
       "      <td>Bakers Delight Melton</td>\n",
       "      <td>https://au.indeed.com/cmp/Bakers-Delight</td>\n",
       "      <td>[Melton VIC 3337]</td>\n",
       "      <td>[Full-time\\n+1]</td>\n",
       "      <td></td>\n",
       "      <td>[1.0]</td>\n",
       "      <td>[We are looking for hard working and enthusias...</td>\n",
       "      <td>[Easily apply]</td>\n",
       "      <td>[]</td>\n",
       "      <td>[Posted\\nPosted 30+ days ago]</td>\n",
       "      <td>[]</td>\n",
       "      <td>[]</td>\n",
       "    </tr>\n",
       "    <tr>\n",
       "      <th>...</th>\n",
       "      <td>...</td>\n",
       "      <td>...</td>\n",
       "      <td>...</td>\n",
       "      <td>...</td>\n",
       "      <td>...</td>\n",
       "      <td>...</td>\n",
       "      <td>...</td>\n",
       "      <td>...</td>\n",
       "      <td>...</td>\n",
       "      <td>...</td>\n",
       "      <td>...</td>\n",
       "      <td>...</td>\n",
       "      <td>...</td>\n",
       "      <td>...</td>\n",
       "      <td>...</td>\n",
       "      <td>...</td>\n",
       "    </tr>\n",
       "    <tr>\n",
       "      <th>14861</th>\n",
       "      <td>1fce879fb8eab2a3e5489d79ba8ab3df</td>\n",
       "      <td>Youth Worker, Permanency Support Program</td>\n",
       "      <td>https://au.indeed.com/pagead/clk?mo=r&amp;ad=-6NYl...</td>\n",
       "      <td></td>\n",
       "      <td></td>\n",
       "      <td></td>\n",
       "      <td>[Liverpool NSW\\n+2 locations]</td>\n",
       "      <td>[Part-time\\n+1]</td>\n",
       "      <td>$34.04 - $35.02 an hour</td>\n",
       "      <td>[1.0]</td>\n",
       "      <td>[In joining our team as the Youth Worker - PSP...</td>\n",
       "      <td>[]</td>\n",
       "      <td>[]</td>\n",
       "      <td>[Posted\\nPosted 13 days ago]</td>\n",
       "      <td>[]</td>\n",
       "      <td>[]</td>\n",
       "    </tr>\n",
       "    <tr>\n",
       "      <th>99562</th>\n",
       "      <td>d5636d4fbfea458f492eb7422a281385</td>\n",
       "      <td>Youth Worker, Permanency Support Program</td>\n",
       "      <td>https://au.indeed.com/pagead/clk?mo=r&amp;ad=-6NYl...</td>\n",
       "      <td></td>\n",
       "      <td></td>\n",
       "      <td></td>\n",
       "      <td>[Liverpool NSW\\n+2 locations]</td>\n",
       "      <td>[Part-time\\n+1]</td>\n",
       "      <td>$34.04 - $35.02 an hour</td>\n",
       "      <td>[1.0]</td>\n",
       "      <td>[In joining our team as the Youth Worker - PSP...</td>\n",
       "      <td>[]</td>\n",
       "      <td>[]</td>\n",
       "      <td>[Posted\\nPosted 13 days ago]</td>\n",
       "      <td>[]</td>\n",
       "      <td>[]</td>\n",
       "    </tr>\n",
       "    <tr>\n",
       "      <th>31712</th>\n",
       "      <td>43d8dbe9078ea1c3b96ec9f0e21a13a0</td>\n",
       "      <td>Youth Worker, Permanency Support Program</td>\n",
       "      <td>https://au.indeed.com/pagead/clk?mo=r&amp;ad=-6NYl...</td>\n",
       "      <td></td>\n",
       "      <td></td>\n",
       "      <td></td>\n",
       "      <td>[Liverpool NSW\\n+2 locations]</td>\n",
       "      <td>[Part-time\\n+1]</td>\n",
       "      <td>$34.04 - $35.02 an hour</td>\n",
       "      <td>[1.0]</td>\n",
       "      <td>[In joining our team as the Youth Worker - PSP...</td>\n",
       "      <td>[]</td>\n",
       "      <td>[]</td>\n",
       "      <td>[Posted\\nPosted 13 days ago]</td>\n",
       "      <td>[]</td>\n",
       "      <td>[]</td>\n",
       "    </tr>\n",
       "    <tr>\n",
       "      <th>91076</th>\n",
       "      <td>c35b8c20b8cc1dcd6276442c33fb70c1</td>\n",
       "      <td>Youth Worker, Permanency Support Program</td>\n",
       "      <td>https://au.indeed.com/pagead/clk?mo=r&amp;ad=-6NYl...</td>\n",
       "      <td></td>\n",
       "      <td></td>\n",
       "      <td></td>\n",
       "      <td>[Liverpool NSW\\n+2 locations]</td>\n",
       "      <td>[Part-time\\n+1]</td>\n",
       "      <td>$34.04 - $35.02 an hour</td>\n",
       "      <td>[1.0]</td>\n",
       "      <td>[In joining our team as the Youth Worker - PSP...</td>\n",
       "      <td>[]</td>\n",
       "      <td>[]</td>\n",
       "      <td>[Posted\\nPosted 13 days ago]</td>\n",
       "      <td>[]</td>\n",
       "      <td>[]</td>\n",
       "    </tr>\n",
       "    <tr>\n",
       "      <th>104426</th>\n",
       "      <td>dfb40f4d38ab3c3fd3ec4c40b6925c57</td>\n",
       "      <td>Youth Worker, Permanency Support Program</td>\n",
       "      <td>https://au.indeed.com/pagead/clk?mo=r&amp;ad=-6NYl...</td>\n",
       "      <td></td>\n",
       "      <td></td>\n",
       "      <td></td>\n",
       "      <td>[Liverpool NSW\\n+2 locations]</td>\n",
       "      <td>[Part-time\\n+1]</td>\n",
       "      <td>$34.04 - $35.02 an hour</td>\n",
       "      <td>[1.0]</td>\n",
       "      <td>[In joining our team as the Youth Worker - PSP...</td>\n",
       "      <td>[]</td>\n",
       "      <td>[]</td>\n",
       "      <td>[Posted\\nPosted 13 days ago]</td>\n",
       "      <td>[]</td>\n",
       "      <td>[]</td>\n",
       "    </tr>\n",
       "  </tbody>\n",
       "</table>\n",
       "<p>119397 rows × 16 columns</p>\n",
       "</div>"
      ],
      "text/plain": [
       "                                      id  \\\n",
       "48390   67b8668770dd9c46388bb624ab12f3d2   \n",
       "34423   49b0744dea92471255b984e0540494e2   \n",
       "64075   89bf16625ce8f6bf2f26ec26b36cc95d   \n",
       "34458   49bf829bef59288232d0a8ce56375cf1   \n",
       "117943  fce6803422a3de6dd5646cddd8fad9ba   \n",
       "...                                  ...   \n",
       "14861   1fce879fb8eab2a3e5489d79ba8ab3df   \n",
       "99562   d5636d4fbfea458f492eb7422a281385   \n",
       "31712   43d8dbe9078ea1c3b96ec9f0e21a13a0   \n",
       "91076   c35b8c20b8cc1dcd6276442c33fb70c1   \n",
       "104426  dfb40f4d38ab3c3fd3ec4c40b6925c57   \n",
       "\n",
       "                                           Title  \\\n",
       "48390                        1st Year Apprentice   \n",
       "34423                        1st Year Apprentice   \n",
       "64075                        1st Year Apprentice   \n",
       "34458                        1st Year Apprentice   \n",
       "117943                       1st Year Apprentice   \n",
       "...                                          ...   \n",
       "14861   Youth Worker, Permanency Support Program   \n",
       "99562   Youth Worker, Permanency Support Program   \n",
       "31712   Youth Worker, Permanency Support Program   \n",
       "91076   Youth Worker, Permanency Support Program   \n",
       "104426  Youth Worker, Permanency Support Program   \n",
       "\n",
       "                                                Title_URL  \\\n",
       "48390   https://au.indeed.com/pagead/clk?mo=r&ad=-6NYl...   \n",
       "34423   https://au.indeed.com/pagead/clk?mo=r&ad=-6NYl...   \n",
       "64075   https://au.indeed.com/pagead/clk?mo=r&ad=-6NYl...   \n",
       "34458   https://au.indeed.com/pagead/clk?mo=r&ad=-6NYl...   \n",
       "117943  https://au.indeed.com/pagead/clk?mo=r&ad=-6NYl...   \n",
       "...                                                   ...   \n",
       "14861   https://au.indeed.com/pagead/clk?mo=r&ad=-6NYl...   \n",
       "99562   https://au.indeed.com/pagead/clk?mo=r&ad=-6NYl...   \n",
       "31712   https://au.indeed.com/pagead/clk?mo=r&ad=-6NYl...   \n",
       "91076   https://au.indeed.com/pagead/clk?mo=r&ad=-6NYl...   \n",
       "104426  https://au.indeed.com/pagead/clk?mo=r&ad=-6NYl...   \n",
       "\n",
       "                        JobType2                Company  \\\n",
       "48390   Weekend availability\\n+4  Bakers Delight Melton   \n",
       "34423   Weekend availability\\n+4  Bakers Delight Melton   \n",
       "64075   Weekend availability\\n+4  Bakers Delight Melton   \n",
       "34458   Weekend availability\\n+4  Bakers Delight Melton   \n",
       "117943  Weekend availability\\n+4  Bakers Delight Melton   \n",
       "...                          ...                    ...   \n",
       "14861                                                     \n",
       "99562                                                     \n",
       "31712                                                     \n",
       "91076                                                     \n",
       "104426                                                    \n",
       "\n",
       "                                     Company_URL  \\\n",
       "48390   https://au.indeed.com/cmp/Bakers-Delight   \n",
       "34423   https://au.indeed.com/cmp/Bakers-Delight   \n",
       "64075   https://au.indeed.com/cmp/Bakers-Delight   \n",
       "34458   https://au.indeed.com/cmp/Bakers-Delight   \n",
       "117943  https://au.indeed.com/cmp/Bakers-Delight   \n",
       "...                                          ...   \n",
       "14861                                              \n",
       "99562                                              \n",
       "31712                                              \n",
       "91076                                              \n",
       "104426                                             \n",
       "\n",
       "                             Location          JobType  \\\n",
       "48390               [Melton VIC 3337]  [Full-time\\n+1]   \n",
       "34423               [Melton VIC 3337]  [Full-time\\n+1]   \n",
       "64075               [Melton VIC 3337]  [Full-time\\n+1]   \n",
       "34458               [Melton VIC 3337]  [Full-time\\n+1]   \n",
       "117943              [Melton VIC 3337]  [Full-time\\n+1]   \n",
       "...                               ...              ...   \n",
       "14861   [Liverpool NSW\\n+2 locations]  [Part-time\\n+1]   \n",
       "99562   [Liverpool NSW\\n+2 locations]  [Part-time\\n+1]   \n",
       "31712   [Liverpool NSW\\n+2 locations]  [Part-time\\n+1]   \n",
       "91076   [Liverpool NSW\\n+2 locations]  [Part-time\\n+1]   \n",
       "104426  [Liverpool NSW\\n+2 locations]  [Part-time\\n+1]   \n",
       "\n",
       "                         Salary moreitems  \\\n",
       "48390                               [1.0]   \n",
       "34423                               [1.0]   \n",
       "64075                               [1.0]   \n",
       "34458                               [1.0]   \n",
       "117943                              [1.0]   \n",
       "...                         ...       ...   \n",
       "14861   $34.04 - $35.02 an hour     [1.0]   \n",
       "99562   $34.04 - $35.02 an hour     [1.0]   \n",
       "31712   $34.04 - $35.02 an hour     [1.0]   \n",
       "91076   $34.04 - $35.02 an hour     [1.0]   \n",
       "104426  $34.04 - $35.02 an hour     [1.0]   \n",
       "\n",
       "                                               jobsnippet           ialbl  \\\n",
       "48390   [We are looking for hard working and enthusias...  [Easily apply]   \n",
       "34423   [We are looking for hard working and enthusias...  [Easily apply]   \n",
       "64075   [We are looking for hard working and enthusias...  [Easily apply]   \n",
       "34458   [We are looking for hard working and enthusias...  [Easily apply]   \n",
       "117943  [We are looking for hard working and enthusias...  [Easily apply]   \n",
       "...                                                   ...             ...   \n",
       "14861   [In joining our team as the Youth Worker - PSP...              []   \n",
       "99562   [In joining our team as the Youth Worker - PSP...              []   \n",
       "31712   [In joining our team as the Youth Worker - PSP...              []   \n",
       "91076   [In joining our team as the Youth Worker - PSP...              []   \n",
       "104426  [In joining our team as the Youth Worker - PSP...              []   \n",
       "\n",
       "       jobsnippet3                           date Field1 Field2  \n",
       "48390           []  [Posted\\nPosted 30+ days ago]     []     []  \n",
       "34423           []  [Posted\\nPosted 30+ days ago]     []     []  \n",
       "64075           []  [Posted\\nPosted 30+ days ago]     []     []  \n",
       "34458           []  [Posted\\nPosted 30+ days ago]     []     []  \n",
       "117943          []  [Posted\\nPosted 30+ days ago]     []     []  \n",
       "...            ...                            ...    ...    ...  \n",
       "14861           []   [Posted\\nPosted 13 days ago]     []     []  \n",
       "99562           []   [Posted\\nPosted 13 days ago]     []     []  \n",
       "31712           []   [Posted\\nPosted 13 days ago]     []     []  \n",
       "91076           []   [Posted\\nPosted 13 days ago]     []     []  \n",
       "104426          []   [Posted\\nPosted 13 days ago]     []     []  \n",
       "\n",
       "[119397 rows x 16 columns]"
      ]
     },
     "execution_count": 34,
     "metadata": {},
     "output_type": "execute_result"
    }
   ],
   "source": [
    "data_cleaned"
   ]
  },
  {
   "cell_type": "code",
   "execution_count": null,
   "id": "b2f6c406-abc8-411e-8fa8-57d07292dc8d",
   "metadata": {},
   "outputs": [],
   "source": []
  }
 ],
 "metadata": {
  "kernelspec": {
   "display_name": "Python 3 (ipykernel)",
   "language": "python",
   "name": "python3"
  },
  "language_info": {
   "codemirror_mode": {
    "name": "ipython",
    "version": 3
   },
   "file_extension": ".py",
   "mimetype": "text/x-python",
   "name": "python",
   "nbconvert_exporter": "python",
   "pygments_lexer": "ipython3",
   "version": "3.10.8"
  }
 },
 "nbformat": 4,
 "nbformat_minor": 5
}

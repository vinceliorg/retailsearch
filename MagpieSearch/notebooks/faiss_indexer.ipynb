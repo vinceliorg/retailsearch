{
 "cells": [
  {
   "cell_type": "code",
   "execution_count": 7,
   "id": "1b4f8f64-7704-420b-a7a1-d67624c7c514",
   "metadata": {
    "tags": []
   },
   "outputs": [],
   "source": [
    "import faiss                   # make faiss available\n",
    "import numpy as np\n",
    "from os import listdir\n",
    "from os.path import isfile, join\n",
    "import pickle\n",
    "import json\n",
    "import hashlib\n",
    "import pandas as pd\n",
    "d = 1536                           # dimension\n",
    "\n"
   ]
  },
  {
   "cell_type": "code",
   "execution_count": 8,
   "id": "dddf1547-51a1-4aa1-8af6-792ce344cd0b",
   "metadata": {
    "tags": []
   },
   "outputs": [],
   "source": [
    "data_dir = '/Users/vli/Work/RetailSearch/RetailSearch/data/embeddings'\n",
    "data_files = [f for f in listdir(data_dir) if isfile(join(data_dir, f)) and '.bin' in f]\n",
    "\n",
    "data = []\n",
    "for file in data_files:\n",
    "    f = open(join(data_dir, file),'rb')\n",
    "    data.append(pickle.load(f))\n",
    "    # close the file\n",
    "    f.close()"
   ]
  },
  {
   "cell_type": "code",
   "execution_count": 9,
   "id": "6bf0c419-a2d0-4d6d-a5c8-6d3c1f867d56",
   "metadata": {
    "tags": []
   },
   "outputs": [
    {
     "data": {
      "text/plain": [
       "2189"
      ]
     },
     "execution_count": 9,
     "metadata": {},
     "output_type": "execute_result"
    }
   ],
   "source": [
    "len(data[0])"
   ]
  },
  {
   "cell_type": "code",
   "execution_count": 10,
   "id": "716551ba-c46b-4f02-a355-33d2ca17dbe7",
   "metadata": {
    "tags": []
   },
   "outputs": [],
   "source": [
    "# d1 = data[0]"
   ]
  },
  {
   "cell_type": "code",
   "execution_count": null,
   "id": "531ab681-d9bc-4ee1-a093-47740103a8e9",
   "metadata": {
    "tags": []
   },
   "outputs": [],
   "source": []
  },
  {
   "cell_type": "code",
   "execution_count": 11,
   "id": "e3dd21fe-49b9-4b03-93e1-9a927065fd31",
   "metadata": {
    "tags": []
   },
   "outputs": [],
   "source": [
    "# np.where[d1[2]==None]"
   ]
  },
  {
   "cell_type": "code",
   "execution_count": 12,
   "id": "717808dd-c73f-4f59-94b3-13ca67a77144",
   "metadata": {
    "tags": []
   },
   "outputs": [],
   "source": [
    "# data[0][2188]"
   ]
  },
  {
   "cell_type": "code",
   "execution_count": 14,
   "id": "4bebbe03-a533-4a98-be21-8da8ab58d1df",
   "metadata": {
    "tags": []
   },
   "outputs": [],
   "source": [
    "embeddings = []\n",
    "ids = []\n",
    "for dt in data:\n",
    "    for record in dt:\n",
    "        embedding_size = len(record[2])\n",
    "        assert embedding_size ==d , \"embeeding size do not match {d} for {i}th row \"\n",
    "        embeddings.append(record[2])\n",
    "        ids.append(record[1])"
   ]
  },
  {
   "cell_type": "code",
   "execution_count": null,
   "id": "21152a27-9c7d-46c5-b483-f2287ced9f4e",
   "metadata": {
    "tags": []
   },
   "outputs": [],
   "source": []
  },
  {
   "cell_type": "code",
   "execution_count": 15,
   "id": "58e47ad8-0161-4e72-9119-6ce47898017a",
   "metadata": {
    "tags": []
   },
   "outputs": [],
   "source": [
    "embeddings = np.array(embeddings)"
   ]
  },
  {
   "cell_type": "code",
   "execution_count": 16,
   "id": "41d4d21a-5824-46ec-a26c-752344b68f27",
   "metadata": {
    "tags": []
   },
   "outputs": [],
   "source": [
    "ids = np.array(ids)"
   ]
  },
  {
   "cell_type": "code",
   "execution_count": 18,
   "id": "1890ae30-7187-45a4-bd44-5f3dc1da62a4",
   "metadata": {
    "tags": []
   },
   "outputs": [
    {
     "data": {
      "text/plain": [
       "(17505, 1536)"
      ]
     },
     "execution_count": 18,
     "metadata": {},
     "output_type": "execute_result"
    }
   ],
   "source": [
    "embeddings.shape"
   ]
  },
  {
   "cell_type": "code",
   "execution_count": null,
   "id": "10fd7430-0ca3-4f9d-a148-4ebdd4d579d3",
   "metadata": {},
   "outputs": [],
   "source": []
  },
  {
   "cell_type": "code",
   "execution_count": 20,
   "id": "b31190fb-1c4c-4603-b422-7cda85d7b62e",
   "metadata": {},
   "outputs": [],
   "source": [
    "n_bits = 2 * d\n",
    "lsh = faiss.IndexLSH (d, n_bits)\n",
    "lsh.train (embeddings)\n",
    "lsh.add (embeddings)"
   ]
  },
  {
   "cell_type": "code",
   "execution_count": 24,
   "id": "35df9f0d-a8e2-4e8e-b545-65b954f2006b",
   "metadata": {
    "tags": []
   },
   "outputs": [],
   "source": [
    "index_path = 'index.faiss'"
   ]
  },
  {
   "cell_type": "code",
   "execution_count": 25,
   "id": "aeac0baf-85ad-4431-95bb-740c4ba47e23",
   "metadata": {
    "tags": []
   },
   "outputs": [],
   "source": [
    "faiss.write_index(lsh, index_path)"
   ]
  },
  {
   "cell_type": "code",
   "execution_count": 26,
   "id": "b344fcff-e046-4daf-a9f6-791a11458822",
   "metadata": {
    "tags": []
   },
   "outputs": [],
   "source": [
    "new_index = faiss.read_index(index_path)"
   ]
  },
  {
   "cell_type": "code",
   "execution_count": 29,
   "id": "00fdc5db-0995-4a22-8d56-a9598553c797",
   "metadata": {
    "tags": []
   },
   "outputs": [
    {
     "data": {
      "text/plain": [
       "array([-0.0006499 , -0.02466407,  0.00072385, ...,  0.00288863,\n",
       "       -0.01601001, -0.03824012])"
      ]
     },
     "execution_count": 29,
     "metadata": {},
     "output_type": "execute_result"
    }
   ],
   "source": [
    "embeddings[10]"
   ]
  },
  {
   "cell_type": "code",
   "execution_count": 34,
   "id": "6ecf38ca-e504-4ddd-a662-e7dd60c2ac49",
   "metadata": {
    "tags": []
   },
   "outputs": [],
   "source": [
    "D, I = new_index.search(embeddings[:1], 100)"
   ]
  },
  {
   "cell_type": "code",
   "execution_count": 36,
   "id": "3e0825a3-4a85-474d-b2c3-b5d29c489c4c",
   "metadata": {
    "tags": []
   },
   "outputs": [
    {
     "data": {
      "text/plain": [
       "array([[    0,    16,    12,   336,   354,   290,  2430,   370,  2363,\n",
       "          355,   347,   321,  2333,  2368,  2407,   327,  2392,   301,\n",
       "         2371,  2375,  2390,   329,  2395,  2452,   283,   344,    38,\n",
       "         6060,  2440,   294,   333,   443,  6144,   444,  2382,  2383,\n",
       "         3869,  2385,   293,  6103,   284,  2421,    52,   391,    51,\n",
       "          309,   209,  2362,   337,  2685,   305,   381,   203,   340,\n",
       "          345,  6061,   269,   747,  6084,  6124,    32,    43,  2400,\n",
       "         2911,  5728,  6085,  6172,   408,   440,  2342,  2387,  2434,\n",
       "         6086,   669,   693,  2771,   386,  2335,   325,  2345,  2408,\n",
       "         2354, 13190,   705,   727,  4399,   349,  6064,  6129,  2862,\n",
       "         2334,  2415,  2431,   204,   238,   298,   348,   297,  2743,\n",
       "          458]])"
      ]
     },
     "execution_count": 36,
     "metadata": {},
     "output_type": "execute_result"
    }
   ],
   "source": []
  },
  {
   "cell_type": "code",
   "execution_count": null,
   "id": "6b2d71f2-d66e-4690-9c07-f18ce133d52c",
   "metadata": {},
   "outputs": [],
   "source": []
  },
  {
   "cell_type": "code",
   "execution_count": 38,
   "id": "b48fe90b-e8bd-4cb2-b6d9-d8153c846c89",
   "metadata": {
    "tags": []
   },
   "outputs": [],
   "source": [
    "data_dir = '/Users/vli/Work/RetailSearch/RetailSearch/data/'\n",
    "data_files = [f for f in listdir(data_dir) if isfile(join(data_dir, f)) and '.json' in f]"
   ]
  },
  {
   "cell_type": "code",
   "execution_count": 39,
   "id": "b4018936-ef72-4ebf-adb2-8b20f342b48a",
   "metadata": {
    "tags": []
   },
   "outputs": [],
   "source": [
    "def encode(text):\n",
    "    hash_object = hashlib.md5(text.encode('utf-8'))\n",
    "    return hash_object.hexdigest()"
   ]
  },
  {
   "cell_type": "code",
   "execution_count": 40,
   "id": "08a7f2f3-b7df-4e60-b6f8-423ad847c1ce",
   "metadata": {
    "tags": []
   },
   "outputs": [
    {
     "name": "stdout",
     "output_type": "stream",
     "text": [
      "/Users/vli/Work/RetailSearch/RetailSearch/data/products_6.json\n",
      "/Users/vli/Work/RetailSearch/RetailSearch/data/products_7.json\n",
      "/Users/vli/Work/RetailSearch/RetailSearch/data/products_1.json\n",
      "/Users/vli/Work/RetailSearch/RetailSearch/data/products_2.json\n",
      "/Users/vli/Work/RetailSearch/RetailSearch/data/products_3.json\n",
      "/Users/vli/Work/RetailSearch/RetailSearch/data/products_8.json\n",
      "/Users/vli/Work/RetailSearch/RetailSearch/data/products_4.json\n",
      "/Users/vli/Work/RetailSearch/RetailSearch/data/products_5.json\n"
     ]
    }
   ],
   "source": [
    "dfs = []\n",
    "for data_file in data_files:\n",
    "    input_file_path = join(data_dir,data_file)\n",
    "    print(input_file_path)\n",
    "    input_file = open(input_file_path)\n",
    "    products = json.load(input_file)\n",
    "    df_products = pd.DataFrame(products)\n",
    "    dfs.append(df_products)\n",
    "    input_file.close()"
   ]
  },
  {
   "cell_type": "code",
   "execution_count": 41,
   "id": "7c0f9a28-1e45-4b22-9f69-3eaf31f588d2",
   "metadata": {
    "tags": []
   },
   "outputs": [],
   "source": [
    "dfs = pd.concat(dfs)\n"
   ]
  },
  {
   "cell_type": "code",
   "execution_count": 44,
   "id": "91c2953a-d00a-4a0b-85fd-c0844e654acf",
   "metadata": {
    "tags": []
   },
   "outputs": [
    {
     "data": {
      "text/plain": [
       "title                            Nu Finish Liquid Car Polish | 473mL\n",
       "price                                                         $23.50\n",
       "package_price                                        $4.97 per 100mL\n",
       "product_image      https://productimages.coles.com.au/productimag...\n",
       "product_details    <div class=\"sc-a2942c6c-0 kwRUuP product-detai...\n",
       "url                https://www.coles.com.au/product/nu-finish-liq...\n",
       "Name: 0, dtype: object"
      ]
     },
     "execution_count": 44,
     "metadata": {},
     "output_type": "execute_result"
    }
   ],
   "source": [
    "dfs.iloc[0]"
   ]
  },
  {
   "cell_type": "code",
   "execution_count": 46,
   "id": "b74abd9b-c4f8-4d21-9867-580028d3d431",
   "metadata": {
    "tags": []
   },
   "outputs": [
    {
     "data": {
      "text/html": [
       "<div>\n",
       "<style scoped>\n",
       "    .dataframe tbody tr th:only-of-type {\n",
       "        vertical-align: middle;\n",
       "    }\n",
       "\n",
       "    .dataframe tbody tr th {\n",
       "        vertical-align: top;\n",
       "    }\n",
       "\n",
       "    .dataframe thead th {\n",
       "        text-align: right;\n",
       "    }\n",
       "</style>\n",
       "<table border=\"1\" class=\"dataframe\">\n",
       "  <thead>\n",
       "    <tr style=\"text-align: right;\">\n",
       "      <th></th>\n",
       "      <th>title</th>\n",
       "      <th>price</th>\n",
       "      <th>package_price</th>\n",
       "      <th>product_image</th>\n",
       "      <th>product_details</th>\n",
       "      <th>url</th>\n",
       "    </tr>\n",
       "  </thead>\n",
       "  <tbody>\n",
       "    <tr>\n",
       "      <th>0</th>\n",
       "      <td>Nu Finish Liquid Car Polish | 473mL</td>\n",
       "      <td>$23.50</td>\n",
       "      <td>$4.97 per 100mL</td>\n",
       "      <td>https://productimages.coles.com.au/productimag...</td>\n",
       "      <td>&lt;div class=\"sc-a2942c6c-0 kwRUuP product-detai...</td>\n",
       "      <td>https://www.coles.com.au/product/nu-finish-liq...</td>\n",
       "    </tr>\n",
       "    <tr>\n",
       "      <th>16</th>\n",
       "      <td>Coles Super Alkaline Battery 9V | 2 pack</td>\n",
       "      <td>$5.25</td>\n",
       "      <td>$2.63 per 1ea</td>\n",
       "      <td>https://productimages.coles.com.au/productimag...</td>\n",
       "      <td>&lt;div class=\"sc-a2942c6c-0 kwRUuP product-detai...</td>\n",
       "      <td>https://www.coles.com.au/product/coles-super-a...</td>\n",
       "    </tr>\n",
       "    <tr>\n",
       "      <th>12</th>\n",
       "      <td>NRG Super Alkaline AAA Batteries | 4 pack</td>\n",
       "      <td>$6.35</td>\n",
       "      <td>$1.59 per 1ea</td>\n",
       "      <td>https://productimages.coles.com.au/productimag...</td>\n",
       "      <td>&lt;div class=\"sc-a2942c6c-0 kwRUuP product-detai...</td>\n",
       "      <td>https://www.coles.com.au/product/nrg-super-alk...</td>\n",
       "    </tr>\n",
       "    <tr>\n",
       "      <th>336</th>\n",
       "      <td>Hot Topic Licensed Mug Adult 1 | 1 each</td>\n",
       "      <td>$6.50</td>\n",
       "      <td>$6.50 per 1ea</td>\n",
       "      <td>https://productimages.coles.com.au/productimag...</td>\n",
       "      <td>&lt;div class=\"sc-a2942c6c-0 kwRUuP product-detai...</td>\n",
       "      <td>https://www.coles.com.au/product/hot-topic-lic...</td>\n",
       "    </tr>\n",
       "    <tr>\n",
       "      <th>354</th>\n",
       "      <td>Smash Leak Proof Fruity Mover | 1 each</td>\n",
       "      <td>$6.50</td>\n",
       "      <td>$6.50 per 1ea</td>\n",
       "      <td>https://productimages.coles.com.au/productimag...</td>\n",
       "      <td>&lt;div class=\"sc-a2942c6c-0 kwRUuP product-detai...</td>\n",
       "      <td>https://www.coles.com.au/product/smash-leak-pr...</td>\n",
       "    </tr>\n",
       "    <tr>\n",
       "      <th>...</th>\n",
       "      <td>...</td>\n",
       "      <td>...</td>\n",
       "      <td>...</td>\n",
       "      <td>...</td>\n",
       "      <td>...</td>\n",
       "      <td>...</td>\n",
       "    </tr>\n",
       "    <tr>\n",
       "      <th>298</th>\n",
       "      <td>Korbond Lint Roller | 1 Each</td>\n",
       "      <td>$7.50</td>\n",
       "      <td>$7.50 per 1ea</td>\n",
       "      <td>https://productimages.coles.com.au/productimag...</td>\n",
       "      <td>&lt;div class=\"sc-a2942c6c-0 kwRUuP product-detai...</td>\n",
       "      <td>https://www.coles.com.au/product/korbond-lint-...</td>\n",
       "    </tr>\n",
       "    <tr>\n",
       "      <th>348</th>\n",
       "      <td>Korbond Polyester Thread Multi Colours | 5 pack</td>\n",
       "      <td>$4.20</td>\n",
       "      <td>$0.84 per 1ea</td>\n",
       "      <td>https://productimages.coles.com.au/productimag...</td>\n",
       "      <td>&lt;div class=\"sc-a2942c6c-0 kwRUuP product-detai...</td>\n",
       "      <td>https://www.coles.com.au/product/korbond-polye...</td>\n",
       "    </tr>\n",
       "    <tr>\n",
       "      <th>297</th>\n",
       "      <td>Pyrex Simply Store Glass Rectangle Container 7...</td>\n",
       "      <td>$6.90</td>\n",
       "      <td>$6.90 per 1ea</td>\n",
       "      <td>https://productimages.coles.com.au/productimag...</td>\n",
       "      <td>&lt;div class=\"sc-a2942c6c-0 kwRUuP product-detai...</td>\n",
       "      <td>https://www.coles.com.au/product/pyrex-simply-...</td>\n",
       "    </tr>\n",
       "    <tr>\n",
       "      <th>552</th>\n",
       "      <td>Coles Tampons Super | 32 pack</td>\n",
       "      <td>$3.75</td>\n",
       "      <td>$0.12 per 1ea</td>\n",
       "      <td>https://productimages.coles.com.au/productimag...</td>\n",
       "      <td>&lt;div class=\"sc-a2942c6c-0 kwRUuP product-detai...</td>\n",
       "      <td>https://www.coles.com.au/product/coles-tampons...</td>\n",
       "    </tr>\n",
       "    <tr>\n",
       "      <th>458</th>\n",
       "      <td>Smash Blue Stainless Steel Food Flask 500mL | ...</td>\n",
       "      <td>$21.00</td>\n",
       "      <td>$21.00 per 1ea</td>\n",
       "      <td>https://productimages.coles.com.au/productimag...</td>\n",
       "      <td>&lt;div class=\"sc-a2942c6c-0 kwRUuP product-detai...</td>\n",
       "      <td>https://www.coles.com.au/product/smash-blue-st...</td>\n",
       "    </tr>\n",
       "  </tbody>\n",
       "</table>\n",
       "<p>100 rows × 6 columns</p>\n",
       "</div>"
      ],
      "text/plain": [
       "                                                 title   price  \\\n",
       "0                  Nu Finish Liquid Car Polish | 473mL  $23.50   \n",
       "16            Coles Super Alkaline Battery 9V | 2 pack   $5.25   \n",
       "12           NRG Super Alkaline AAA Batteries | 4 pack   $6.35   \n",
       "336            Hot Topic Licensed Mug Adult 1 | 1 each   $6.50   \n",
       "354             Smash Leak Proof Fruity Mover | 1 each   $6.50   \n",
       "..                                                 ...     ...   \n",
       "298                       Korbond Lint Roller | 1 Each   $7.50   \n",
       "348    Korbond Polyester Thread Multi Colours | 5 pack   $4.20   \n",
       "297  Pyrex Simply Store Glass Rectangle Container 7...   $6.90   \n",
       "552                      Coles Tampons Super | 32 pack   $3.75   \n",
       "458  Smash Blue Stainless Steel Food Flask 500mL | ...  $21.00   \n",
       "\n",
       "       package_price                                      product_image  \\\n",
       "0    $4.97 per 100mL  https://productimages.coles.com.au/productimag...   \n",
       "16     $2.63 per 1ea  https://productimages.coles.com.au/productimag...   \n",
       "12     $1.59 per 1ea  https://productimages.coles.com.au/productimag...   \n",
       "336    $6.50 per 1ea  https://productimages.coles.com.au/productimag...   \n",
       "354    $6.50 per 1ea  https://productimages.coles.com.au/productimag...   \n",
       "..               ...                                                ...   \n",
       "298    $7.50 per 1ea  https://productimages.coles.com.au/productimag...   \n",
       "348    $0.84 per 1ea  https://productimages.coles.com.au/productimag...   \n",
       "297    $6.90 per 1ea  https://productimages.coles.com.au/productimag...   \n",
       "552    $0.12 per 1ea  https://productimages.coles.com.au/productimag...   \n",
       "458   $21.00 per 1ea  https://productimages.coles.com.au/productimag...   \n",
       "\n",
       "                                       product_details  \\\n",
       "0    <div class=\"sc-a2942c6c-0 kwRUuP product-detai...   \n",
       "16   <div class=\"sc-a2942c6c-0 kwRUuP product-detai...   \n",
       "12   <div class=\"sc-a2942c6c-0 kwRUuP product-detai...   \n",
       "336  <div class=\"sc-a2942c6c-0 kwRUuP product-detai...   \n",
       "354  <div class=\"sc-a2942c6c-0 kwRUuP product-detai...   \n",
       "..                                                 ...   \n",
       "298  <div class=\"sc-a2942c6c-0 kwRUuP product-detai...   \n",
       "348  <div class=\"sc-a2942c6c-0 kwRUuP product-detai...   \n",
       "297  <div class=\"sc-a2942c6c-0 kwRUuP product-detai...   \n",
       "552  <div class=\"sc-a2942c6c-0 kwRUuP product-detai...   \n",
       "458  <div class=\"sc-a2942c6c-0 kwRUuP product-detai...   \n",
       "\n",
       "                                                   url  \n",
       "0    https://www.coles.com.au/product/nu-finish-liq...  \n",
       "16   https://www.coles.com.au/product/coles-super-a...  \n",
       "12   https://www.coles.com.au/product/nrg-super-alk...  \n",
       "336  https://www.coles.com.au/product/hot-topic-lic...  \n",
       "354  https://www.coles.com.au/product/smash-leak-pr...  \n",
       "..                                                 ...  \n",
       "298  https://www.coles.com.au/product/korbond-lint-...  \n",
       "348  https://www.coles.com.au/product/korbond-polye...  \n",
       "297  https://www.coles.com.au/product/pyrex-simply-...  \n",
       "552  https://www.coles.com.au/product/coles-tampons...  \n",
       "458  https://www.coles.com.au/product/smash-blue-st...  \n",
       "\n",
       "[100 rows x 6 columns]"
      ]
     },
     "execution_count": 46,
     "metadata": {},
     "output_type": "execute_result"
    }
   ],
   "source": [
    "dfs.iloc[I[0]]"
   ]
  },
  {
   "cell_type": "code",
   "execution_count": null,
   "id": "85261afe-472f-4fcf-8fad-94c9fb974a4a",
   "metadata": {
    "tags": []
   },
   "outputs": [],
   "source": []
  },
  {
   "cell_type": "code",
   "execution_count": null,
   "id": "1aed6433-903d-4979-96e8-db417cde70ed",
   "metadata": {},
   "outputs": [],
   "source": []
  }
 ],
 "metadata": {
  "kernelspec": {
   "display_name": "Python 3 (ipykernel)",
   "language": "python",
   "name": "python3"
  },
  "language_info": {
   "codemirror_mode": {
    "name": "ipython",
    "version": 3
   },
   "file_extension": ".py",
   "mimetype": "text/x-python",
   "name": "python",
   "nbconvert_exporter": "python",
   "pygments_lexer": "ipython3",
   "version": "3.10.8"
  }
 },
 "nbformat": 4,
 "nbformat_minor": 5
}

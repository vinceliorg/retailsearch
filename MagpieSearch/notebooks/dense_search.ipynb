{
 "cells": [
  {
   "cell_type": "code",
   "execution_count": 1,
   "id": "9ad7a986-bf4b-462f-95e1-46e28ad76954",
   "metadata": {
    "tags": []
   },
   "outputs": [],
   "source": [
    "import faiss                   # make faiss available\n",
    "import numpy as np\n",
    "from os import listdir\n",
    "from os.path import isfile, join\n",
    "import pickle\n",
    "import json\n",
    "import hashlib\n",
    "import pandas as pd\n",
    "import sys\n",
    "sys.path.insert(1, '../utils/')\n",
    "from embeddings import vectorize\n",
    "from text_utils import encode\n",
    "import redis\n",
    "\n",
    "pool = redis.ConnectionPool(host='localhost', port=6379, db=0)\n",
    "redis_docs = redis.Redis(connection_pool=pool)"
   ]
  },
  {
   "cell_type": "code",
   "execution_count": null,
   "id": "7aad1715-d250-4607-aec5-019781b79e67",
   "metadata": {
    "tags": []
   },
   "outputs": [],
   "source": []
  },
  {
   "cell_type": "code",
   "execution_count": 2,
   "id": "c16579fc-18dd-4154-8659-be365fc27180",
   "metadata": {
    "tags": []
   },
   "outputs": [],
   "source": [
    "d = 1536  "
   ]
  },
  {
   "cell_type": "code",
   "execution_count": 3,
   "id": "c9ed36c2-ed05-4223-b541-28a4166517bc",
   "metadata": {
    "tags": []
   },
   "outputs": [],
   "source": [
    "faiss_index_path = '/Users/vli/Work/RetailSearch/RetailSearch/deployment/faiss/index/grocery.fi'"
   ]
  },
  {
   "cell_type": "code",
   "execution_count": 4,
   "id": "6751454d-8a48-4ce4-9953-feb1521f6d7b",
   "metadata": {
    "tags": []
   },
   "outputs": [],
   "source": [
    "search_index = faiss.read_index(faiss_index_path)"
   ]
  },
  {
   "cell_type": "code",
   "execution_count": 5,
   "id": "e4072407-5202-4cef-b5f5-0303333055d6",
   "metadata": {
    "tags": []
   },
   "outputs": [],
   "source": [
    "doc_id_path = '/Users/vli/Work/RetailSearch/RetailSearch/deployment/faiss/index/grocery.id'"
   ]
  },
  {
   "cell_type": "code",
   "execution_count": 6,
   "id": "1feb2800-a0f9-4ce1-9a47-d92ab90ec02b",
   "metadata": {
    "tags": []
   },
   "outputs": [],
   "source": [
    "doc_idx = pickle.load(open(doc_id_path, \"rb\"))"
   ]
  },
  {
   "cell_type": "code",
   "execution_count": null,
   "id": "77e7ba79-c3ca-4d21-b410-e05a5886ad68",
   "metadata": {},
   "outputs": [],
   "source": []
  },
  {
   "cell_type": "code",
   "execution_count": 7,
   "id": "5441ed0e-0997-446e-bfe2-c3c80202c97c",
   "metadata": {
    "tags": []
   },
   "outputs": [],
   "source": [
    "def search(text):\n",
    "    encode = vectorize(text)\n",
    "    D, I = search_index.search(np.array([encode]), 200)\n",
    "    result_ids = doc_idx[I[0]]\n",
    "    results = redis_docs.mget(result_ids)\n",
    "    return results"
   ]
  },
  {
   "cell_type": "code",
   "execution_count": null,
   "id": "c645f3eb-e57c-4198-9092-2adec34b5c21",
   "metadata": {
    "tags": []
   },
   "outputs": [],
   "source": []
  },
  {
   "cell_type": "code",
   "execution_count": null,
   "id": "82df2fe1-ff05-4293-916d-8d82a65233fe",
   "metadata": {
    "tags": []
   },
   "outputs": [],
   "source": []
  },
  {
   "cell_type": "code",
   "execution_count": null,
   "id": "cf4daec9-6a6a-4be6-9135-d937bc0071a2",
   "metadata": {},
   "outputs": [],
   "source": []
  }
 ],
 "metadata": {
  "kernelspec": {
   "display_name": "Python 3 (ipykernel)",
   "language": "python",
   "name": "python3"
  },
  "language_info": {
   "codemirror_mode": {
    "name": "ipython",
    "version": 3
   },
   "file_extension": ".py",
   "mimetype": "text/x-python",
   "name": "python",
   "nbconvert_exporter": "python",
   "pygments_lexer": "ipython3",
   "version": "3.10.8"
  }
 },
 "nbformat": 4,
 "nbformat_minor": 5
}

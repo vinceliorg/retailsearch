{
 "cells": [
  {
   "cell_type": "code",
   "execution_count": 7,
   "id": "6dc8f8c5-de64-4080-9ff5-729819cc0db3",
   "metadata": {
    "tags": []
   },
   "outputs": [],
   "source": [
    "import pandas as pd\n",
    "import urllib.parse"
   ]
  },
  {
   "cell_type": "code",
   "execution_count": 2,
   "id": "8de5810b-1094-4570-b04b-f94cf8ecd16b",
   "metadata": {
    "tags": []
   },
   "outputs": [],
   "source": [
    "queries = pd.read_csv('/Users/vli/Downloads/query_sample - query_sample.csv')"
   ]
  },
  {
   "cell_type": "code",
   "execution_count": 4,
   "id": "4b798f7c-a63a-49fa-9a04-ff2f7adcfa82",
   "metadata": {
    "tags": []
   },
   "outputs": [],
   "source": [
    "queries=queries[['query','len', 'len_bucket']]"
   ]
  },
  {
   "cell_type": "code",
   "execution_count": 5,
   "id": "97e4cf32-6d22-46de-b3bb-c400e3f4a3a7",
   "metadata": {
    "tags": []
   },
   "outputs": [
    {
     "data": {
      "text/html": [
       "<div>\n",
       "<style scoped>\n",
       "    .dataframe tbody tr th:only-of-type {\n",
       "        vertical-align: middle;\n",
       "    }\n",
       "\n",
       "    .dataframe tbody tr th {\n",
       "        vertical-align: top;\n",
       "    }\n",
       "\n",
       "    .dataframe thead th {\n",
       "        text-align: right;\n",
       "    }\n",
       "</style>\n",
       "<table border=\"1\" class=\"dataframe\">\n",
       "  <thead>\n",
       "    <tr style=\"text-align: right;\">\n",
       "      <th></th>\n",
       "      <th>query</th>\n",
       "      <th>len</th>\n",
       "      <th>len_bucket</th>\n",
       "    </tr>\n",
       "  </thead>\n",
       "  <tbody>\n",
       "    <tr>\n",
       "      <th>0</th>\n",
       "      <td>runners</td>\n",
       "      <td>1</td>\n",
       "      <td>1</td>\n",
       "    </tr>\n",
       "    <tr>\n",
       "      <th>1</th>\n",
       "      <td>roast caps</td>\n",
       "      <td>2</td>\n",
       "      <td>1</td>\n",
       "    </tr>\n",
       "    <tr>\n",
       "      <th>2</th>\n",
       "      <td>mayver smooth</td>\n",
       "      <td>2</td>\n",
       "      <td>1</td>\n",
       "    </tr>\n",
       "    <tr>\n",
       "      <th>3</th>\n",
       "      <td>beef rub</td>\n",
       "      <td>2</td>\n",
       "      <td>1</td>\n",
       "    </tr>\n",
       "    <tr>\n",
       "      <th>4</th>\n",
       "      <td>natural lollies</td>\n",
       "      <td>2</td>\n",
       "      <td>1</td>\n",
       "    </tr>\n",
       "    <tr>\n",
       "      <th>...</th>\n",
       "      <td>...</td>\n",
       "      <td>...</td>\n",
       "      <td>...</td>\n",
       "    </tr>\n",
       "    <tr>\n",
       "      <th>2824</th>\n",
       "      <td>sea salt and vin</td>\n",
       "      <td>4</td>\n",
       "      <td>3</td>\n",
       "    </tr>\n",
       "    <tr>\n",
       "      <th>2825</th>\n",
       "      <td>cup of soup dutch curry</td>\n",
       "      <td>5</td>\n",
       "      <td>3</td>\n",
       "    </tr>\n",
       "    <tr>\n",
       "      <th>2826</th>\n",
       "      <td>beef and onion sau</td>\n",
       "      <td>4</td>\n",
       "      <td>3</td>\n",
       "    </tr>\n",
       "    <tr>\n",
       "      <th>2827</th>\n",
       "      <td>natures gift dry food</td>\n",
       "      <td>4</td>\n",
       "      <td>3</td>\n",
       "    </tr>\n",
       "    <tr>\n",
       "      <th>2828</th>\n",
       "      <td>tip top english muffin pack</td>\n",
       "      <td>5</td>\n",
       "      <td>3</td>\n",
       "    </tr>\n",
       "  </tbody>\n",
       "</table>\n",
       "<p>2829 rows × 3 columns</p>\n",
       "</div>"
      ],
      "text/plain": [
       "                            query  len  len_bucket\n",
       "0                         runners    1           1\n",
       "1                      roast caps    2           1\n",
       "2                   mayver smooth    2           1\n",
       "3                        beef rub    2           1\n",
       "4                 natural lollies    2           1\n",
       "...                           ...  ...         ...\n",
       "2824             sea salt and vin    4           3\n",
       "2825      cup of soup dutch curry    5           3\n",
       "2826           beef and onion sau    4           3\n",
       "2827        natures gift dry food    4           3\n",
       "2828  tip top english muffin pack    5           3\n",
       "\n",
       "[2829 rows x 3 columns]"
      ]
     },
     "execution_count": 5,
     "metadata": {},
     "output_type": "execute_result"
    }
   ],
   "source": [
    "queries"
   ]
  },
  {
   "cell_type": "code",
   "execution_count": 36,
   "id": "34bea8c4-5d15-459c-ad4e-9cb061f7cd90",
   "metadata": {
    "tags": []
   },
   "outputs": [
    {
     "name": "stderr",
     "output_type": "stream",
     "text": [
      "/var/folders/w2/cc31wnk17sb792wmhqk254h80000gn/T/ipykernel_61934/653844092.py:6: DeprecationWarning: executable_path has been deprecated, please pass in a Service object\n",
      "  driver = Chrome(executable_path=driver_path)\n"
     ]
    }
   ],
   "source": [
    "from selenium.webdriver import Chrome\n",
    "from selenium.webdriver.common.by import By\n",
    "\n",
    "driver_path = 'chromedriver_mac_arm64/chromedriver'\n",
    "\n",
    "driver = Chrome(executable_path=driver_path)"
   ]
  },
  {
   "cell_type": "code",
   "execution_count": null,
   "id": "3217426d-0a01-4983-942d-e7cc3dc8b8a8",
   "metadata": {},
   "outputs": [],
   "source": []
  },
  {
   "cell_type": "code",
   "execution_count": 37,
   "id": "c7bbc337-b7a0-4e92-960d-ff7183ade631",
   "metadata": {
    "tags": []
   },
   "outputs": [],
   "source": [
    "def get_search_count(query):\n",
    "    driver.get(f'https://www.coles.com.au/search?q='+urllib.parse.quote(query))\n",
    "    xpath = '//div[@class=\"sc-4a711676-1 bJevuC coles-targeting-SearchPagesTopBarNumberOfResults\"]'\n",
    "    link_elements = driver.find_elements(By.XPATH,xpath)\n",
    "    if len(link_elements)>0:\n",
    "        result_cnt = link_elements[0].text\n",
    "        result_cnt = result_cnt.split('of')[1].strip().split()[0]\n",
    "    else:\n",
    "        result_cnt = 0\n",
    "    return result_cnt\n",
    "    "
   ]
  },
  {
   "cell_type": "code",
   "execution_count": 38,
   "id": "fb011d85-719b-4705-b7d7-8353c1bc6cca",
   "metadata": {
    "tags": []
   },
   "outputs": [],
   "source": [
    "queries['coles_cnt'] = queries['query'].apply(get_search_count)"
   ]
  },
  {
   "cell_type": "code",
   "execution_count": 40,
   "id": "ebd4151c-6753-421e-94a6-0fbd3bc2a327",
   "metadata": {
    "tags": []
   },
   "outputs": [],
   "source": [
    "queries.to_csv('query_sample_with_coles_search_cnts.csv')"
   ]
  },
  {
   "cell_type": "code",
   "execution_count": 41,
   "id": "84f7c4dd-76e2-48ad-ba9e-f12df294d18b",
   "metadata": {
    "tags": []
   },
   "outputs": [],
   "source": [
    "wws_queries = pd.read_csv('../data/wws_queries.csv')"
   ]
  },
  {
   "cell_type": "code",
   "execution_count": 43,
   "id": "ef50d58a-b76f-4f77-b58c-03f76b1d152a",
   "metadata": {
    "tags": []
   },
   "outputs": [],
   "source": [
    "wws_queries.columns = ['wws_search_cnt','title','query']"
   ]
  },
  {
   "cell_type": "code",
   "execution_count": 45,
   "id": "d5d3067a-9969-4e60-bc91-d8ae44250964",
   "metadata": {
    "tags": []
   },
   "outputs": [],
   "source": [
    "queries = pd.merge(queries,wws_queries,how='left', on='query')"
   ]
  },
  {
   "cell_type": "code",
   "execution_count": 47,
   "id": "80eaaa8f-d92d-4887-88e3-701c84bd861f",
   "metadata": {
    "tags": []
   },
   "outputs": [],
   "source": [
    "queries=queries[['query','len','len_bucket','coles_cnt','wws_search_cnt']]"
   ]
  },
  {
   "cell_type": "code",
   "execution_count": 56,
   "id": "e2a5c273-0964-4111-a543-74ea049c2274",
   "metadata": {
    "tags": []
   },
   "outputs": [],
   "source": [
    "def get_cnt(text):\n",
    "    text = str(text)\n",
    "    if text is None or text == 'nan':\n",
    "        return 0\n",
    "    elif 'of' in text:\n",
    "        return text.split('of')[1].strip().split()[0]\n",
    "    else:\n",
    "        return text.strip().split()[0]"
   ]
  },
  {
   "cell_type": "code",
   "execution_count": 57,
   "id": "024b4a9e-f5eb-427f-a83a-dafc39a65d92",
   "metadata": {
    "tags": []
   },
   "outputs": [
    {
     "name": "stderr",
     "output_type": "stream",
     "text": [
      "/var/folders/w2/cc31wnk17sb792wmhqk254h80000gn/T/ipykernel_61934/347865827.py:1: SettingWithCopyWarning: \n",
      "A value is trying to be set on a copy of a slice from a DataFrame.\n",
      "Try using .loc[row_indexer,col_indexer] = value instead\n",
      "\n",
      "See the caveats in the documentation: https://pandas.pydata.org/pandas-docs/stable/user_guide/indexing.html#returning-a-view-versus-a-copy\n",
      "  queries['wws_search_cnt'] = queries['wws_search_cnt'].apply(get_cnt)\n"
     ]
    }
   ],
   "source": [
    "queries['wws_search_cnt'] = queries['wws_search_cnt'].apply(get_cnt)"
   ]
  },
  {
   "cell_type": "code",
   "execution_count": 64,
   "id": "1154f302-e84b-40cb-83c6-e497a1125bad",
   "metadata": {
    "tags": []
   },
   "outputs": [],
   "source": [
    "queries = queries[~((queries['coles_cnt']==0) & (queries['wws_search_cnt']==0))]"
   ]
  },
  {
   "cell_type": "code",
   "execution_count": 68,
   "id": "2b22323c-fba2-4f75-88c7-4f243204b7d1",
   "metadata": {
    "tags": []
   },
   "outputs": [
    {
     "name": "stderr",
     "output_type": "stream",
     "text": [
      "/var/folders/w2/cc31wnk17sb792wmhqk254h80000gn/T/ipykernel_61934/2671867515.py:1: SettingWithCopyWarning: \n",
      "A value is trying to be set on a copy of a slice from a DataFrame.\n",
      "Try using .loc[row_indexer,col_indexer] = value instead\n",
      "\n",
      "See the caveats in the documentation: https://pandas.pydata.org/pandas-docs/stable/user_guide/indexing.html#returning-a-view-versus-a-copy\n",
      "  queries['coles_url'] = queries['query'].apply(lambda x: f'https://www.coles.com.au/search?q='+urllib.parse.quote(x))\n"
     ]
    }
   ],
   "source": [
    "queries['coles_url'] = queries['query'].apply(lambda x: f'https://www.coles.com.au/search?q='+urllib.parse.quote(x))"
   ]
  },
  {
   "cell_type": "code",
   "execution_count": 69,
   "id": "b7fec7ef-8d02-4a19-bccf-c1336143853e",
   "metadata": {
    "tags": []
   },
   "outputs": [],
   "source": [
    "queries.to_csv('query_sample.csv',index=False)"
   ]
  },
  {
   "cell_type": "code",
   "execution_count": 70,
   "id": "574c699b-cab2-455c-8dce-a181676ed843",
   "metadata": {
    "tags": []
   },
   "outputs": [],
   "source": [
    "queries = pd.read_csv('query_sample.csv')"
   ]
  },
  {
   "cell_type": "code",
   "execution_count": 72,
   "id": "1a57c5a1-55f3-431c-938a-a00e25c09aef",
   "metadata": {
    "tags": []
   },
   "outputs": [],
   "source": [
    "queries = queries.groupby('len_bucket', group_keys=False).apply(lambda x: x.sample(300))"
   ]
  },
  {
   "cell_type": "code",
   "execution_count": 73,
   "id": "662ac1f0-88f3-4c27-b2d8-349ab5c215ee",
   "metadata": {
    "tags": []
   },
   "outputs": [],
   "source": [
    "queries.to_csv('final_query_sample.csv',index=False)"
   ]
  },
  {
   "cell_type": "code",
   "execution_count": null,
   "id": "804d6860-0506-4338-9124-7853cb19ed72",
   "metadata": {},
   "outputs": [],
   "source": []
  }
 ],
 "metadata": {
  "kernelspec": {
   "display_name": "Python 3 (ipykernel)",
   "language": "python",
   "name": "python3"
  },
  "language_info": {
   "codemirror_mode": {
    "name": "ipython",
    "version": 3
   },
   "file_extension": ".py",
   "mimetype": "text/x-python",
   "name": "python",
   "nbconvert_exporter": "python",
   "pygments_lexer": "ipython3",
   "version": "3.10.8"
  }
 },
 "nbformat": 4,
 "nbformat_minor": 5
}

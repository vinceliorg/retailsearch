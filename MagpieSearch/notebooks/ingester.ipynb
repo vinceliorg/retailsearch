{
 "cells": [
  {
   "cell_type": "code",
   "execution_count": 2,
   "id": "4620ef41-2b43-4178-9ebb-fee0b47fc759",
   "metadata": {
    "tags": []
   },
   "outputs": [],
   "source": [
    "from datetime import datetime\n",
    "from elasticsearch import Elasticsearch\n",
    "import pandas as pd\n",
    "import math\n",
    "import xml.etree.ElementTree as ET\n",
    "from bs4 import BeautifulSoup\n",
    "import requests\n",
    "import json\n",
    "import hashlib\n",
    "from os import listdir\n",
    "from os.path import isfile, join"
   ]
  },
  {
   "cell_type": "code",
   "execution_count": 3,
   "id": "df0149f5-e9ba-4ab5-b953-5447026e9058",
   "metadata": {
    "tags": []
   },
   "outputs": [],
   "source": []
  },
  {
   "cell_type": "code",
   "execution_count": 4,
   "id": "6e54ffc3-69ae-4753-aac1-fbf2853e110a",
   "metadata": {
    "tags": []
   },
   "outputs": [
    {
     "data": {
      "text/plain": [
       "'6b2f47f3127b85d25a4f6f6c407100d0'"
      ]
     },
     "execution_count": 4,
     "metadata": {},
     "output_type": "execute_result"
    }
   ],
   "source": [
    "encode(\"https://www.coles.com.au/product/the-natural-confectionary-co.-sour-squirms-lollies-220g-2351254\")"
   ]
  },
  {
   "cell_type": "code",
   "execution_count": 2,
   "id": "0abd2d97-1761-4bb4-aac3-72ee8a5e9d18",
   "metadata": {
    "tags": []
   },
   "outputs": [],
   "source": [
    "es = Elasticsearch( 'http://localhost:9200')"
   ]
  },
  {
   "cell_type": "code",
   "execution_count": 3,
   "id": "f3dbc2d1-7f30-4f0b-ac37-68bf91672e8c",
   "metadata": {
    "tags": []
   },
   "outputs": [],
   "source": [
    "INDEX_NAME = 'grocery-index'"
   ]
  },
  {
   "cell_type": "code",
   "execution_count": 4,
   "id": "d9525935-329c-484f-8957-95091f721259",
   "metadata": {
    "tags": []
   },
   "outputs": [],
   "source": []
  },
  {
   "cell_type": "code",
   "execution_count": 18,
   "id": "71bea10f-0ed7-4740-8ebc-0fa7811c548d",
   "metadata": {
    "tags": []
   },
   "outputs": [],
   "source": []
  },
  {
   "cell_type": "code",
   "execution_count": 37,
   "id": "4d2e325b-d61e-481f-81fd-684dc5a04616",
   "metadata": {
    "tags": []
   },
   "outputs": [],
   "source": [
    "def process_text(html):\n",
    "    if html is None:\n",
    "        return ''\n",
    "    soup = BeautifulSoup(html, 'html.parser')\n",
    "    node = soup.find(\"div\", {\"class\": \"sc-a2942c6c-3 dgpqzY coles-targeting-SectionHeaderDescription\"})\n",
    "    if node is None:\n",
    "        return node\n",
    "    return node.text.replace(u'\\xa0', u' ')"
   ]
  },
  {
   "cell_type": "code",
   "execution_count": null,
   "id": "a0a3ecea-622d-4784-81c3-4552b4f2b8b5",
   "metadata": {},
   "outputs": [],
   "source": []
  },
  {
   "cell_type": "code",
   "execution_count": 43,
   "id": "8292502d-d23a-4d31-8f3f-30654c28a4a3",
   "metadata": {
    "tags": []
   },
   "outputs": [],
   "source": [
    "def ingest_from_file(file_path):\n",
    "    # Opening JSON file\n",
    "    f = open(file_path)\n",
    "    data = json.load(f)\n",
    "    f.close()\n",
    "    print(f'ingest from {file_path}')\n",
    "    for product in data:\n",
    "        prod_json = {}\n",
    "        prod_json['id'] = encode(product['url'])\n",
    "        prod_json['title'] = product['title']\n",
    "        prod_json['source'] = 'COLES'c\n",
    "        prod_json['pricetext'] = product['price']\n",
    "        prod_json['price'] = float(product['price'].replace('$','')) if product['price'] is not None else None\n",
    "        prod_json['packageprice'] = product['package_price']\n",
    "        prod_json['productimage'] = product['product_image']\n",
    "        prod_json['productdetails'] = process_text(product['product_details'])\n",
    "        prod_json['url'] = product['url']\n",
    "        try :\n",
    "            res = es.index(index=INDEX_NAME, id=prod_json['id'], body=prod_json)\n",
    "            # print(res['result'])\n",
    "        except:\n",
    "            print ('index error')\n",
    "    print('index_completed')"
   ]
  },
  {
   "cell_type": "code",
   "execution_count": 47,
   "id": "2064b18a-8698-4734-833c-63bef166b54f",
   "metadata": {
    "tags": []
   },
   "outputs": [],
   "source": []
  },
  {
   "cell_type": "code",
   "execution_count": null,
   "id": "ba1f4f29-c7d1-48e5-8a96-ebd82f914eb9",
   "metadata": {
    "tags": []
   },
   "outputs": [],
   "source": []
  },
  {
   "cell_type": "code",
   "execution_count": null,
   "id": "095ad922-c305-4ccc-9018-46d1238cc186",
   "metadata": {},
   "outputs": [],
   "source": [
    "def main():\n",
    "    data_dir = '/Users/vli/Work/RetailSearch/RetailSearch/data'\n",
    "    data_files = [f for f in listdir(data_dir) if isfile(join(data_dir, f)) and 'product' in f]\n",
    "    for file_path in data_files:\n",
    "        ingest_from_file(file_path)"
   ]
  },
  {
   "cell_type": "code",
   "execution_count": null,
   "id": "8321e877-4b8e-458d-b6d9-d0012e02c82d",
   "metadata": {},
   "outputs": [],
   "source": [
    "if __name__ == \"__main__\":\n",
    "    main()"
   ]
  }
 ],
 "metadata": {
  "kernelspec": {
   "display_name": "Python 3 (ipykernel)",
   "language": "python",
   "name": "python3"
  },
  "language_info": {
   "codemirror_mode": {
    "name": "ipython",
    "version": 3
   },
   "file_extension": ".py",
   "mimetype": "text/x-python",
   "name": "python",
   "nbconvert_exporter": "python",
   "pygments_lexer": "ipython3",
   "version": "3.10.8"
  }
 },
 "nbformat": 4,
 "nbformat_minor": 5
}

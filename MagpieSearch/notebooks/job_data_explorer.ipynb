{
 "cells": [
  {
   "cell_type": "code",
   "execution_count": 1,
   "id": "539c7127-875a-476c-ad57-304742e6d7ef",
   "metadata": {
    "tags": []
   },
   "outputs": [],
   "source": [
    "import json\n",
    "import pandas as pd"
   ]
  },
  {
   "cell_type": "code",
   "execution_count": 23,
   "id": "1f6d3017-dc75-41ec-8ce0-309c4be49590",
   "metadata": {
    "tags": []
   },
   "outputs": [],
   "source": [
    "\n",
    "file_path = '/Users/vli/Work/RetailSearch/RetailSearch/data/marketing_sample_for_seek_au-seek_au_job__20210101_20210331__30k_data.ldjson'"
   ]
  },
  {
   "cell_type": "code",
   "execution_count": 26,
   "id": "440abdbe-1f89-4926-b9e6-db6bf702948f",
   "metadata": {
    "tags": []
   },
   "outputs": [],
   "source": [
    "data = []\n",
    "with open(file_path) as f:\n",
    "    for line in f:\n",
    "        try:\n",
    "            job = json.loads(line)\n",
    "            data.append(job)\n",
    "        except:\n",
    "            continue\n",
    "        "
   ]
  },
  {
   "cell_type": "code",
   "execution_count": 28,
   "id": "d93656bf-e72a-4d33-bfa9-6bf268373d78",
   "metadata": {},
   "outputs": [
    {
     "data": {
      "text/plain": [
       "{'uniq_id': 'f8366daee57cb7bb075285c4215d2ed0',\n",
       " 'crawl_timestamp': '2021-03-13 06:26:17 +0000',\n",
       " 'url': 'https://www.seek.com.au/job/51758257?type=standard#searchRequestToken=1e227345-6f65-4653-beca-73c60b149900',\n",
       " 'job_title': 'Casual Barista in Melbourne',\n",
       " 'category': 'Casual/Vacation',\n",
       " 'company_name': 'Jora Local',\n",
       " 'city': 'Kalgoorlie, Goldfields & Esperance',\n",
       " 'state': 'Melbourne , CBD & Inner Suburbs',\n",
       " 'country': 'Australia',\n",
       " 'post_date': '2021-03-13',\n",
       " 'job_description': 'A cafe in Melbourne is seeking a casual Barista (up to 40 hours per week) to join our team. To be considered for this role you should: Have at least 2 years of experience as a Barista Have Australian work rights',\n",
       " 'job_type': 'Casual/Vacation',\n",
       " 'job_board': 'seek',\n",
       " 'geo': 'AU',\n",
       " 'job_post_lang': 'en',\n",
       " 'inferred_iso2_lang_code': 'en',\n",
       " 'test1_cities': ['Kalgoorlie', ' Goldfields & Esperance'],\n",
       " 'test1_states': ['Melbourne ', ' CBD & Inner Suburbs'],\n",
       " 'test1_countries': ['Australia'],\n",
       " 'site_name': 'seek_au_job_board_common_setup_pc_jobspikr',\n",
       " 'domain': 'seek_com_au',\n",
       " 'postdate_yyyymmdd': '20210313',\n",
       " 'predicted_language': 'en',\n",
       " 'inferred_iso3_lang_code': 'eng',\n",
       " 'test1_inferred_city': ['Kalgoorlie'],\n",
       " 'test1_inferred_state': ['Western australia'],\n",
       " 'test1_inferred_country': ['Australia'],\n",
       " 'inferred_country': 'Australia',\n",
       " 'has_expired': 'false',\n",
       " 'last_expiry_check_date': '2021.03.13',\n",
       " 'latest_expiry_check_date': '2021-03-13',\n",
       " 'duplicate_status': 'NA',\n",
       " 'dataset': ['job_board'],\n",
       " 'is_remote': 'false',\n",
       " 'postdate_in_indexname_format': '2021.03.11',\n",
       " 'segment_name': 'seek_au_job_board_common_setup_pc_jobspikr-20210313_053820713937681__20210313050048',\n",
       " 'fitness_score': 9}"
      ]
     },
     "execution_count": 28,
     "metadata": {},
     "output_type": "execute_result"
    }
   ],
   "source": [
    "data[0]"
   ]
  },
  {
   "cell_type": "code",
   "execution_count": null,
   "id": "d3f219fb-8add-49c5-87d2-29950798a0ef",
   "metadata": {
    "tags": []
   },
   "outputs": [],
   "source": []
  },
  {
   "cell_type": "code",
   "execution_count": null,
   "id": "78edf160-9332-4862-96e0-cc819888e8f7",
   "metadata": {},
   "outputs": [],
   "source": []
  }
 ],
 "metadata": {
  "kernelspec": {
   "display_name": "Python 3 (ipykernel)",
   "language": "python",
   "name": "python3"
  },
  "language_info": {
   "codemirror_mode": {
    "name": "ipython",
    "version": 3
   },
   "file_extension": ".py",
   "mimetype": "text/x-python",
   "name": "python",
   "nbconvert_exporter": "python",
   "pygments_lexer": "ipython3",
   "version": "3.10.8"
  }
 },
 "nbformat": 4,
 "nbformat_minor": 5
}

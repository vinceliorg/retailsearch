{
 "cells": [
  {
   "cell_type": "code",
   "execution_count": 5,
   "id": "6a3609f1-07d6-410d-8387-bc8f9f8dcdd9",
   "metadata": {
    "tags": []
   },
   "outputs": [],
   "source": [
    "import pystache\n",
    "import json"
   ]
  },
  {
   "cell_type": "code",
   "execution_count": 8,
   "id": "daae952d-5f43-4f52-86e1-382637663cf8",
   "metadata": {
    "tags": []
   },
   "outputs": [],
   "source": [
    "with open('configure/query_template.js','r') as f:\n",
    "    query_template = json.load(f)"
   ]
  },
  {
   "cell_type": "code",
   "execution_count": 9,
   "id": "9cfb035b-c8ca-49f4-bf8b-2ba84704911d",
   "metadata": {
    "tags": []
   },
   "outputs": [
    {
     "data": {
      "text/plain": [
       "{'from': 0,\n",
       " 'size': 20,\n",
       " 'query': {'bool': {'must': [{'bool': {'must': [{'bool': {'filter': [{'simple_query_string': {'fields': ['tiltle',\n",
       "             'productdetails'],\n",
       "            'query': '{{query}}',\n",
       "            'default_operator': '{{retrieval_boolean_operator}}'}}]}}]}}],\n",
       "   'should': [{'multi_match': {'type': 'phrase',\n",
       "      'query': '{{query}}',\n",
       "      'slop': 20,\n",
       "      'fields': ['tiltle^100', 'productdetails^10']}}]}}}"
      ]
     },
     "execution_count": 9,
     "metadata": {},
     "output_type": "execute_result"
    }
   ],
   "source": [
    "query_template"
   ]
  },
  {
   "cell_type": "code",
   "execution_count": 13,
   "id": "61c7336d-ca31-4d9d-9bb9-bdb239b1332b",
   "metadata": {
    "tags": []
   },
   "outputs": [
    {
     "name": "stdout",
     "output_type": "stream",
     "text": [
      "{\"from\": 0, \"size\": 20, \"query\": {\"bool\": {\"must\": [{\"bool\": {\"must\": [{\"bool\": {\"filter\": [{\"simple_query_string\": {\"fields\": [\"tiltle\", \"productdetails\"], \"query\": \"french toast\", \"default_operator\": \"or\"}}]}}]}}], \"should\": [{\"multi_match\": {\"type\": \"phrase\", \"query\": \"french toast\", \"slop\": 20, \"fields\": [\"tiltle^100\", \"productdetails^10\"]}}]}}}\n"
     ]
    }
   ],
   "source": [
    "print(pystache.render(json.dumps(query_template), {'query': 'french toast', 'retrieval_boolean_operator': 'or'}))\n"
   ]
  },
  {
   "cell_type": "code",
   "execution_count": null,
   "id": "f79244aa-53e4-4ca3-9faf-13b8efd1d485",
   "metadata": {},
   "outputs": [],
   "source": []
  },
  {
   "cell_type": "code",
   "execution_count": null,
   "id": "2075d302-297b-4b4e-85d3-fe4c15e623da",
   "metadata": {},
   "outputs": [],
   "source": []
  }
 ],
 "metadata": {
  "kernelspec": {
   "display_name": "Python 3 (ipykernel)",
   "language": "python",
   "name": "python3"
  },
  "language_info": {
   "codemirror_mode": {
    "name": "ipython",
    "version": 3
   },
   "file_extension": ".py",
   "mimetype": "text/x-python",
   "name": "python",
   "nbconvert_exporter": "python",
   "pygments_lexer": "ipython3",
   "version": "3.10.8"
  }
 },
 "nbformat": 4,
 "nbformat_minor": 5
}
